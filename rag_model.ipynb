{
 "cells": [
  {
   "cell_type": "code",
   "execution_count": 1,
   "id": "2172d25a",
   "metadata": {},
   "outputs": [
    {
     "name": "stdout",
     "output_type": "stream",
     "text": [
      "Collecting sentence-transformers\n",
      "  Using cached sentence_transformers-3.0.1-py3-none-any.whl (227 kB)\n",
      "Collecting transformers<5.0.0,>=4.34.0 (from sentence-transformers)\n",
      "  Using cached transformers-4.43.1-py3-none-any.whl (9.4 MB)\n",
      "Requirement already satisfied: tqdm in c:\\users\\amogh\\anaconda3\\lib\\site-packages (from sentence-transformers) (4.66.4)\n",
      "Collecting torch>=1.11.0 (from sentence-transformers)\n",
      "  Using cached torch-2.3.1-cp311-cp311-win_amd64.whl (159.8 MB)\n",
      "Requirement already satisfied: numpy in c:\\users\\amogh\\anaconda3\\lib\\site-packages (from sentence-transformers) (1.24.3)\n",
      "Requirement already satisfied: scikit-learn in c:\\users\\amogh\\anaconda3\\lib\\site-packages (from sentence-transformers) (1.2.2)\n",
      "Requirement already satisfied: scipy in c:\\users\\amogh\\anaconda3\\lib\\site-packages (from sentence-transformers) (1.10.1)\n",
      "Requirement already satisfied: huggingface-hub>=0.15.1 in c:\\users\\amogh\\anaconda3\\lib\\site-packages (from sentence-transformers) (0.23.4)\n",
      "Requirement already satisfied: Pillow in c:\\users\\amogh\\anaconda3\\lib\\site-packages (from sentence-transformers) (9.4.0)\n",
      "Requirement already satisfied: filelock in c:\\users\\amogh\\anaconda3\\lib\\site-packages (from huggingface-hub>=0.15.1->sentence-transformers) (3.9.0)\n",
      "Requirement already satisfied: fsspec>=2023.5.0 in c:\\users\\amogh\\anaconda3\\lib\\site-packages (from huggingface-hub>=0.15.1->sentence-transformers) (2024.5.0)\n",
      "Requirement already satisfied: packaging>=20.9 in c:\\users\\amogh\\anaconda3\\lib\\site-packages (from huggingface-hub>=0.15.1->sentence-transformers) (23.0)\n",
      "Requirement already satisfied: pyyaml>=5.1 in c:\\users\\amogh\\anaconda3\\lib\\site-packages (from huggingface-hub>=0.15.1->sentence-transformers) (6.0)\n",
      "Requirement already satisfied: requests in c:\\users\\amogh\\anaconda3\\lib\\site-packages (from huggingface-hub>=0.15.1->sentence-transformers) (2.32.3)\n",
      "Requirement already satisfied: typing-extensions>=3.7.4.3 in c:\\users\\amogh\\anaconda3\\lib\\site-packages (from huggingface-hub>=0.15.1->sentence-transformers) (4.12.2)\n",
      "Requirement already satisfied: sympy in c:\\users\\amogh\\anaconda3\\lib\\site-packages (from torch>=1.11.0->sentence-transformers) (1.11.1)\n",
      "Requirement already satisfied: networkx in c:\\users\\amogh\\anaconda3\\lib\\site-packages (from torch>=1.11.0->sentence-transformers) (2.8.4)\n",
      "Requirement already satisfied: jinja2 in c:\\users\\amogh\\anaconda3\\lib\\site-packages (from torch>=1.11.0->sentence-transformers) (3.1.2)\n",
      "Collecting mkl<=2021.4.0,>=2021.1.1 (from torch>=1.11.0->sentence-transformers)\n",
      "  Using cached mkl-2021.4.0-py2.py3-none-win_amd64.whl (228.5 MB)\n",
      "Requirement already satisfied: colorama in c:\\users\\amogh\\anaconda3\\lib\\site-packages (from tqdm->sentence-transformers) (0.4.6)\n",
      "Requirement already satisfied: regex!=2019.12.17 in c:\\users\\amogh\\anaconda3\\lib\\site-packages (from transformers<5.0.0,>=4.34.0->sentence-transformers) (2022.7.9)\n",
      "Collecting tokenizers<0.20,>=0.19 (from transformers<5.0.0,>=4.34.0->sentence-transformers)\n",
      "  Using cached tokenizers-0.19.1-cp311-none-win_amd64.whl (2.2 MB)\n",
      "Collecting safetensors>=0.4.1 (from transformers<5.0.0,>=4.34.0->sentence-transformers)\n",
      "  Using cached safetensors-0.4.3-cp311-none-win_amd64.whl (287 kB)\n",
      "Requirement already satisfied: joblib>=1.1.1 in c:\\users\\amogh\\anaconda3\\lib\\site-packages (from scikit-learn->sentence-transformers) (1.2.0)\n",
      "Requirement already satisfied: threadpoolctl>=2.0.0 in c:\\users\\amogh\\anaconda3\\lib\\site-packages (from scikit-learn->sentence-transformers) (2.2.0)\n",
      "Collecting intel-openmp==2021.* (from mkl<=2021.4.0,>=2021.1.1->torch>=1.11.0->sentence-transformers)\n",
      "  Using cached intel_openmp-2021.4.0-py2.py3-none-win_amd64.whl (3.5 MB)\n",
      "Collecting tbb==2021.* (from mkl<=2021.4.0,>=2021.1.1->torch>=1.11.0->sentence-transformers)\n",
      "  Using cached tbb-2021.13.0-py3-none-win_amd64.whl (286 kB)\n",
      "Requirement already satisfied: MarkupSafe>=2.0 in c:\\users\\amogh\\anaconda3\\lib\\site-packages (from jinja2->torch>=1.11.0->sentence-transformers) (2.1.1)\n",
      "Requirement already satisfied: charset-normalizer<4,>=2 in c:\\users\\amogh\\anaconda3\\lib\\site-packages (from requests->huggingface-hub>=0.15.1->sentence-transformers) (2.0.4)\n",
      "Requirement already satisfied: idna<4,>=2.5 in c:\\users\\amogh\\anaconda3\\lib\\site-packages (from requests->huggingface-hub>=0.15.1->sentence-transformers) (3.4)\n",
      "Requirement already satisfied: urllib3<3,>=1.21.1 in c:\\users\\amogh\\anaconda3\\lib\\site-packages (from requests->huggingface-hub>=0.15.1->sentence-transformers) (1.26.16)\n",
      "Requirement already satisfied: certifi>=2017.4.17 in c:\\users\\amogh\\anaconda3\\lib\\site-packages (from requests->huggingface-hub>=0.15.1->sentence-transformers) (2023.5.7)\n",
      "Requirement already satisfied: mpmath>=0.19 in c:\\users\\amogh\\anaconda3\\lib\\site-packages (from sympy->torch>=1.11.0->sentence-transformers) (1.2.1)\n",
      "Installing collected packages: tbb, intel-openmp, safetensors, mkl, torch, tokenizers, transformers, sentence-transformers\n",
      "  Attempting uninstall: transformers\n",
      "    Found existing installation: transformers 2.1.1\n",
      "    Uninstalling transformers-2.1.1:\n",
      "      Successfully uninstalled transformers-2.1.1\n",
      "Successfully installed intel-openmp-2021.4.0 mkl-2021.4.0 safetensors-0.4.3 sentence-transformers-3.0.1 tbb-2021.13.0 tokenizers-0.19.1 torch-2.3.1 transformers-4.43.1\n"
     ]
    }
   ],
   "source": [
    "#!pip install -U sentence-transformers"
   ]
  },
  {
   "cell_type": "code",
   "execution_count": 2,
   "id": "1e325c41",
   "metadata": {},
   "outputs": [
    {
     "name": "stdout",
     "output_type": "stream",
     "text": [
      "Requirement already satisfied: fitz in c:\\users\\amogh\\anaconda3\\lib\\site-packages (0.0.1.dev2)\n",
      "Requirement already satisfied: configobj in c:\\users\\amogh\\anaconda3\\lib\\site-packages (from fitz) (5.0.8)\n",
      "Requirement already satisfied: configparser in c:\\users\\amogh\\anaconda3\\lib\\site-packages (from fitz) (7.0.0)\n",
      "Requirement already satisfied: httplib2 in c:\\users\\amogh\\anaconda3\\lib\\site-packages (from fitz) (0.22.0)\n",
      "Requirement already satisfied: nibabel in c:\\users\\amogh\\anaconda3\\lib\\site-packages (from fitz) (5.2.1)\n",
      "Requirement already satisfied: nipype in c:\\users\\amogh\\anaconda3\\lib\\site-packages (from fitz) (1.8.6)\n",
      "Requirement already satisfied: numpy in c:\\users\\amogh\\anaconda3\\lib\\site-packages (from fitz) (1.24.3)\n",
      "Requirement already satisfied: pandas in c:\\users\\amogh\\anaconda3\\lib\\site-packages (from fitz) (1.5.3)\n",
      "Requirement already satisfied: pyxnat in c:\\users\\amogh\\anaconda3\\lib\\site-packages (from fitz) (1.6.2)\n",
      "Requirement already satisfied: scipy in c:\\users\\amogh\\anaconda3\\lib\\site-packages (from fitz) (1.10.1)\n",
      "Requirement already satisfied: six in c:\\users\\amogh\\anaconda3\\lib\\site-packages (from configobj->fitz) (1.16.0)\n",
      "Requirement already satisfied: pyparsing!=3.0.0,!=3.0.1,!=3.0.2,!=3.0.3,<4,>=2.4.2 in c:\\users\\amogh\\anaconda3\\lib\\site-packages (from httplib2->fitz) (3.0.9)\n",
      "Requirement already satisfied: packaging>=17 in c:\\users\\amogh\\anaconda3\\lib\\site-packages (from nibabel->fitz) (23.0)\n",
      "Requirement already satisfied: click>=6.6.0 in c:\\users\\amogh\\anaconda3\\lib\\site-packages (from nipype->fitz) (8.0.4)\n",
      "Requirement already satisfied: networkx>=2.0 in c:\\users\\amogh\\anaconda3\\lib\\site-packages (from nipype->fitz) (2.8.4)\n",
      "Requirement already satisfied: prov>=1.5.2 in c:\\users\\amogh\\anaconda3\\lib\\site-packages (from nipype->fitz) (2.0.1)\n",
      "Requirement already satisfied: pydot>=1.2.3 in c:\\users\\amogh\\anaconda3\\lib\\site-packages (from nipype->fitz) (3.0.1)\n",
      "Requirement already satisfied: python-dateutil>=2.2 in c:\\users\\amogh\\anaconda3\\lib\\site-packages (from nipype->fitz) (2.8.2)\n",
      "Requirement already satisfied: rdflib>=5.0.0 in c:\\users\\amogh\\anaconda3\\lib\\site-packages (from nipype->fitz) (6.3.2)\n",
      "Requirement already satisfied: simplejson>=3.8.0 in c:\\users\\amogh\\anaconda3\\lib\\site-packages (from nipype->fitz) (3.19.2)\n",
      "Requirement already satisfied: traits!=5.0,<6.4,>=4.6 in c:\\users\\amogh\\anaconda3\\lib\\site-packages (from nipype->fitz) (6.3.2)\n",
      "Requirement already satisfied: filelock>=3.0.0 in c:\\users\\amogh\\anaconda3\\lib\\site-packages (from nipype->fitz) (3.9.0)\n",
      "Requirement already satisfied: etelemetry>=0.2.0 in c:\\users\\amogh\\anaconda3\\lib\\site-packages (from nipype->fitz) (0.3.1)\n",
      "Requirement already satisfied: looseversion in c:\\users\\amogh\\anaconda3\\lib\\site-packages (from nipype->fitz) (1.3.0)\n",
      "Requirement already satisfied: pytz>=2020.1 in c:\\users\\amogh\\anaconda3\\lib\\site-packages (from pandas->fitz) (2022.7)\n",
      "Requirement already satisfied: lxml>=4.3 in c:\\users\\amogh\\anaconda3\\lib\\site-packages (from pyxnat->fitz) (4.9.2)\n",
      "Requirement already satisfied: requests>=2.20 in c:\\users\\amogh\\anaconda3\\lib\\site-packages (from pyxnat->fitz) (2.32.3)\n",
      "Requirement already satisfied: pathlib>=1.0 in c:\\users\\amogh\\anaconda3\\lib\\site-packages (from pyxnat->fitz) (1.0.1)\n",
      "Requirement already satisfied: colorama in c:\\users\\amogh\\anaconda3\\lib\\site-packages (from click>=6.6.0->nipype->fitz) (0.4.6)\n",
      "Requirement already satisfied: ci-info>=0.2 in c:\\users\\amogh\\anaconda3\\lib\\site-packages (from etelemetry>=0.2.0->nipype->fitz) (0.3.0)\n",
      "Requirement already satisfied: isodate<0.7.0,>=0.6.0 in c:\\users\\amogh\\anaconda3\\lib\\site-packages (from rdflib>=5.0.0->nipype->fitz) (0.6.1)\n",
      "Requirement already satisfied: charset-normalizer<4,>=2 in c:\\users\\amogh\\anaconda3\\lib\\site-packages (from requests>=2.20->pyxnat->fitz) (2.0.4)\n",
      "Requirement already satisfied: idna<4,>=2.5 in c:\\users\\amogh\\anaconda3\\lib\\site-packages (from requests>=2.20->pyxnat->fitz) (3.4)\n",
      "Requirement already satisfied: urllib3<3,>=1.21.1 in c:\\users\\amogh\\anaconda3\\lib\\site-packages (from requests>=2.20->pyxnat->fitz) (1.26.16)\n",
      "Requirement already satisfied: certifi>=2017.4.17 in c:\\users\\amogh\\anaconda3\\lib\\site-packages (from requests>=2.20->pyxnat->fitz) (2023.5.7)\n",
      "Requirement already satisfied: tqdm in c:\\users\\amogh\\anaconda3\\lib\\site-packages (4.66.4)\n",
      "Requirement already satisfied: colorama in c:\\users\\amogh\\anaconda3\\lib\\site-packages (from tqdm) (0.4.6)\n"
     ]
    }
   ],
   "source": [
    "!pip install fitz\n",
    "!pip install tqdm"
   ]
  },
  {
   "cell_type": "code",
   "execution_count": 3,
   "id": "97f362bd",
   "metadata": {},
   "outputs": [
    {
     "name": "stdout",
     "output_type": "stream",
     "text": [
      "Requirement already satisfied: PyMuPDF in c:\\users\\amogh\\anaconda3\\lib\\site-packages (1.24.7)\n",
      "Requirement already satisfied: PyMuPDFb==1.24.6 in c:\\users\\amogh\\anaconda3\\lib\\site-packages (from PyMuPDF) (1.24.6)\n"
     ]
    }
   ],
   "source": [
    "!pip install PyMuPDF\n"
   ]
  },
  {
   "cell_type": "code",
   "execution_count": 1,
   "id": "e1403ab8",
   "metadata": {},
   "outputs": [
    {
     "name": "stdout",
     "output_type": "stream",
     "text": [
      "File G:\\books\\Human-Nutrition-2020-Edition-1598491699.pdf exists!\n"
     ]
    }
   ],
   "source": [
    "import os\n",
    "import requests\n",
    "\n",
    "pdf_path = r\"G:\\books\\Human-Nutrition-2020-Edition-1598491699.pdf\"\n",
    "\n",
    "if not os.path.exists(pdf_path):\n",
    "    print(f\"[Info] File doesn't exists, downloading....\")\n",
    "    url = \"https://pressbooks.oer.hawaii.edu/humannutrition2/open/download?type=pdf\"\n",
    "    filename = pdf_path\n",
    "    #get method\n",
    "    response = requests.get(url)\n",
    "    if response.status_code == 200:\n",
    "        with open(\"filename\", \"wb\") as f:\n",
    "            f.write(response.content)\n",
    "        print(f\"The file is being downloaded as {filename}\")\n",
    "    else:\n",
    "        print(f\"[INFO] Failed to download the file {response.status_code}\")\n",
    "        \n",
    "else:\n",
    "    print(f\"File {pdf_path} exists!\")\n",
    "    "
   ]
  },
  {
   "cell_type": "code",
   "execution_count": 5,
   "id": "91bdc971",
   "metadata": {},
   "outputs": [
    {
     "name": "stdout",
     "output_type": "stream",
     "text": [
      "Requirement already satisfied: PyMuPDF in c:\\users\\amogh\\anaconda3\\lib\\site-packages (1.24.7)\n",
      "Requirement already satisfied: PyMuPDFb==1.24.6 in c:\\users\\amogh\\anaconda3\\lib\\site-packages (from PyMuPDF) (1.24.6)\n"
     ]
    }
   ],
   "source": [
    "!pip install PyMuPDF\n"
   ]
  },
  {
   "cell_type": "code",
   "execution_count": 2,
   "id": "66eb992f",
   "metadata": {},
   "outputs": [
    {
     "data": {
      "text/plain": [
       "[{'page_no': -41,\n",
       "  'page_char_count': 29,\n",
       "  'page_sentence_count': 1,\n",
       "  'page_word_count': 4,\n",
       "  'tokens': 7.25,\n",
       "  'text': 'Human Nutrition: 2020 Edition'},\n",
       " {'page_no': -40,\n",
       "  'page_char_count': 0,\n",
       "  'page_sentence_count': 1,\n",
       "  'page_word_count': 1,\n",
       "  'tokens': 0.0,\n",
       "  'text': ''}]"
      ]
     },
     "execution_count": 2,
     "metadata": {},
     "output_type": "execute_result"
    }
   ],
   "source": [
    "#!pip install fitz\n",
    "import fitz\n",
    "import tqdm\n",
    "#cleaning and looking into the data\n",
    "def text_formatter(text: str) -> str:\n",
    "    cleaned_text = text.replace(\"\\n\", \" \").strip()\n",
    "    return cleaned_text\n",
    "\n",
    "def open_read_pdf(pdf_path : str) -> list[dict]:\n",
    "    doc = fitz.open(pdf_path)\n",
    "    pages_n_text = []\n",
    "    for page_no, page in enumerate(doc):\n",
    "        text = page.get_text()\n",
    "        text = text_formatter(text = text)\n",
    "        pages_n_text.append({ \"page_no\": page_no - 41,\n",
    "                           \"page_char_count\": len(text),\n",
    "                           \"page_sentence_count\": len(text.split(\". \")),\n",
    "                           \"page_word_count\": len(text.split(\" \")),\n",
    "                           \"tokens\": len(text)/4, \n",
    "                            \"text\" : text})\n",
    "        \n",
    "    return pages_n_text\n",
    "\n",
    "page_n_text = open_read_pdf(pdf_path = pdf_path)\n",
    "page_n_text[:2]"
   ]
  },
  {
   "cell_type": "code",
   "execution_count": 3,
   "id": "bd6966fe",
   "metadata": {},
   "outputs": [
    {
     "data": {
      "text/plain": [
       "[{'page_no': 712,\n",
       "  'page_char_count': 1834,\n",
       "  'page_sentence_count': 19,\n",
       "  'page_word_count': 340,\n",
       "  'tokens': 458.5,\n",
       "  'text': 'EAR values become the scientific foundation upon which RDA  values are set.  2. Recommended Daily Allowances. Once the EAR of a nutrient  has been established, the RDA can be mathematically  determined. While the EAR is set at a point that meets the  needs of half the population, RDA values are set to meet the  needs of the vast majority (97 to 98 percent) of the target  healthy population. It is important to note that RDAs are not  the same thing as individual nutritional requirements. The  actual nutrient needs of a given individual will be different  than the RDA. However, since we know that 97 to 98 percent of  the population’s needs are met by the RDA, we can assume that  if a person is consuming the RDA of a given nutrient, they are  most likely meeting their nutritional need for that nutrient.  The important thing to remember is that the RDA is meant as a  recommendation and meeting the RDA means it is very likely  that you are meeting your actual requirement for that nutrient.  Understanding the Difference  There is a distinct difference between a requirement and a  recommendation. For instance, the DRI for vitamin D is a  recommended 600 international units each day. However, in order  to find out your true personal requirements for vitamin D, a blood  test is necessary. The blood test will provide an accurate reading  from which a medical professional can gauge your required daily  vitamin D amounts. This may be considerably more or less than the  DRI, depending on what your level actually is.  1. Adequate Intake. AIs are created for nutrients when there is  insufficient consistent scientific evidence to set an EAR for the  entire population. As with RDAs, AIs can be used as nutrient- intake goals for a given nutrient. For example, there has not  712  |  Understanding Dietary Reference Intakes'},\n",
       " {'page_no': 251,\n",
       "  'page_char_count': 796,\n",
       "  'page_sentence_count': 5,\n",
       "  'page_word_count': 131,\n",
       "  'tokens': 199.0,\n",
       "  'text': 'More Resources  Visit this online database to discover the glycemic indices  of foods. Foods are listed by category and also by low,  medium, or high glycemic index.  http:/ /www.gilisting.com/  Learning Activities  Technology Note: The second edition of the Human  Nutrition Open Educational Resource (OER) textbook  features interactive learning activities.\\xa0 These activities are  available in the web-based textbook and not available in the  downloadable versions (EPUB, Digital PDF, Print_PDF, or  Open Document).  Learning activities may be used across various mobile  devices, however, for the best user experience it is strongly  recommended that users complete these activities using a  desktop or laptop computer and in Google Chrome.  \\xa0 Digestion and Absorption of Carbohydrates  |  251'}]"
      ]
     },
     "execution_count": 3,
     "metadata": {},
     "output_type": "execute_result"
    }
   ],
   "source": [
    "import random\n",
    "random.sample(page_n_text,k = 2)"
   ]
  },
  {
   "cell_type": "code",
   "execution_count": 4,
   "id": "298e3116",
   "metadata": {},
   "outputs": [],
   "source": [
    "import pandas as pd\n"
   ]
  },
  {
   "cell_type": "code",
   "execution_count": 5,
   "id": "c5a4d5f0",
   "metadata": {},
   "outputs": [
    {
     "data": {
      "text/html": [
       "<div>\n",
       "<style scoped>\n",
       "    .dataframe tbody tr th:only-of-type {\n",
       "        vertical-align: middle;\n",
       "    }\n",
       "\n",
       "    .dataframe tbody tr th {\n",
       "        vertical-align: top;\n",
       "    }\n",
       "\n",
       "    .dataframe thead th {\n",
       "        text-align: right;\n",
       "    }\n",
       "</style>\n",
       "<table border=\"1\" class=\"dataframe\">\n",
       "  <thead>\n",
       "    <tr style=\"text-align: right;\">\n",
       "      <th></th>\n",
       "      <th>page_no</th>\n",
       "      <th>page_char_count</th>\n",
       "      <th>page_sentence_count</th>\n",
       "      <th>page_word_count</th>\n",
       "      <th>tokens</th>\n",
       "    </tr>\n",
       "  </thead>\n",
       "  <tbody>\n",
       "    <tr>\n",
       "      <th>count</th>\n",
       "      <td>1208.00</td>\n",
       "      <td>1208.00</td>\n",
       "      <td>1208.00</td>\n",
       "      <td>1208.00</td>\n",
       "      <td>1208.00</td>\n",
       "    </tr>\n",
       "    <tr>\n",
       "      <th>mean</th>\n",
       "      <td>562.50</td>\n",
       "      <td>1148.59</td>\n",
       "      <td>9.97</td>\n",
       "      <td>198.89</td>\n",
       "      <td>287.15</td>\n",
       "    </tr>\n",
       "    <tr>\n",
       "      <th>std</th>\n",
       "      <td>348.86</td>\n",
       "      <td>560.44</td>\n",
       "      <td>6.19</td>\n",
       "      <td>95.75</td>\n",
       "      <td>140.11</td>\n",
       "    </tr>\n",
       "    <tr>\n",
       "      <th>min</th>\n",
       "      <td>-41.00</td>\n",
       "      <td>0.00</td>\n",
       "      <td>1.00</td>\n",
       "      <td>1.00</td>\n",
       "      <td>0.00</td>\n",
       "    </tr>\n",
       "    <tr>\n",
       "      <th>25%</th>\n",
       "      <td>260.75</td>\n",
       "      <td>762.75</td>\n",
       "      <td>4.00</td>\n",
       "      <td>134.00</td>\n",
       "      <td>190.69</td>\n",
       "    </tr>\n",
       "    <tr>\n",
       "      <th>50%</th>\n",
       "      <td>562.50</td>\n",
       "      <td>1232.50</td>\n",
       "      <td>10.00</td>\n",
       "      <td>215.00</td>\n",
       "      <td>308.12</td>\n",
       "    </tr>\n",
       "    <tr>\n",
       "      <th>75%</th>\n",
       "      <td>864.25</td>\n",
       "      <td>1605.25</td>\n",
       "      <td>14.00</td>\n",
       "      <td>271.25</td>\n",
       "      <td>401.31</td>\n",
       "    </tr>\n",
       "    <tr>\n",
       "      <th>max</th>\n",
       "      <td>1166.00</td>\n",
       "      <td>2308.00</td>\n",
       "      <td>32.00</td>\n",
       "      <td>429.00</td>\n",
       "      <td>577.00</td>\n",
       "    </tr>\n",
       "  </tbody>\n",
       "</table>\n",
       "</div>"
      ],
      "text/plain": [
       "       page_no  page_char_count  page_sentence_count  page_word_count   tokens\n",
       "count  1208.00          1208.00              1208.00          1208.00  1208.00\n",
       "mean    562.50          1148.59                 9.97           198.89   287.15\n",
       "std     348.86           560.44                 6.19            95.75   140.11\n",
       "min     -41.00             0.00                 1.00             1.00     0.00\n",
       "25%     260.75           762.75                 4.00           134.00   190.69\n",
       "50%     562.50          1232.50                10.00           215.00   308.12\n",
       "75%     864.25          1605.25                14.00           271.25   401.31\n",
       "max    1166.00          2308.00                32.00           429.00   577.00"
      ]
     },
     "execution_count": 5,
     "metadata": {},
     "output_type": "execute_result"
    }
   ],
   "source": [
    "df = pd.DataFrame(page_n_text)\n",
    "df.iloc[3]\n",
    "df.describe().round(2)\n"
   ]
  },
  {
   "cell_type": "markdown",
   "id": "a3108a68",
   "metadata": {},
   "source": [
    "why tokens are rqd?\n",
    "LLMS can't take infinte tokens\n",
    "Embedding also has a range of tokens.\n",
    "\n",
    "EX:\n",
    "A embedding model has been trained to embed 384 tokens into numerical space.(all-mpnet-base-v2)"
   ]
  },
  {
   "cell_type": "markdown",
   "id": "05a68d35",
   "metadata": {},
   "source": [
    "Splitting big chunks of text into sentences"
   ]
  },
  {
   "cell_type": "code",
   "execution_count": 6,
   "id": "7e579e10",
   "metadata": {},
   "outputs": [
    {
     "data": {
      "text/plain": [
       "[I am great., I am learning]"
      ]
     },
     "execution_count": 6,
     "metadata": {},
     "output_type": "execute_result"
    }
   ],
   "source": [
    "from spacy.lang.en import English\n",
    "\n",
    "nlp = English()\n",
    "nlp.add_pipe(\"sentencizer\")\n",
    "#doc instance\n",
    "doc = nlp(\"I am great.I am learning\")\n",
    "assert len(list(doc.sents)) == 2\n",
    "\n",
    "list(doc.sents)"
   ]
  },
  {
   "cell_type": "code",
   "execution_count": 7,
   "id": "c5f9f4e0",
   "metadata": {},
   "outputs": [],
   "source": [
    "for item in page_n_text:\n",
    "    #using spacy\n",
    "    item['sentences']  = list(nlp(item[\"text\"]).sents)\n",
    "    item['sentences'] = [str(sentence) for sentence in item['sentences'] ]\n",
    "    item['page_sentence_count_spacy'] = len(item['sentences'])"
   ]
  },
  {
   "cell_type": "code",
   "execution_count": 8,
   "id": "656c7807",
   "metadata": {},
   "outputs": [],
   "source": [
    "import random\n"
   ]
  },
  {
   "cell_type": "code",
   "execution_count": 9,
   "id": "883207c2",
   "metadata": {},
   "outputs": [
    {
     "data": {
      "text/plain": [
       "{'page_no': -41,\n",
       " 'page_char_count': 29,\n",
       " 'page_sentence_count': 1,\n",
       " 'page_word_count': 4,\n",
       " 'tokens': 7.25,\n",
       " 'text': 'Human Nutrition: 2020 Edition',\n",
       " 'sentences': ['Human Nutrition: 2020 Edition'],\n",
       " 'page_sentence_count_spacy': 1}"
      ]
     },
     "execution_count": 9,
     "metadata": {},
     "output_type": "execute_result"
    }
   ],
   "source": [
    "page_n_text[0]"
   ]
  },
  {
   "cell_type": "code",
   "execution_count": 10,
   "id": "223e3b79",
   "metadata": {},
   "outputs": [
    {
     "data": {
      "text/plain": [
       "[{'page_no': 985,\n",
       "  'page_char_count': 67,\n",
       "  'page_sentence_count': 3,\n",
       "  'page_word_count': 15,\n",
       "  'tokens': 16.75,\n",
       "  'text': 'PART\\xa0XVII  CHAPTER 17. FOOD SAFETY  Chapter 17. Food Safety  |  985',\n",
       "  'sentences': ['PART\\xa0XVII  CHAPTER 17.',\n",
       "   'FOOD SAFETY  Chapter 17.',\n",
       "   'Food Safety  |  985'],\n",
       "  'page_sentence_count_spacy': 3}]"
      ]
     },
     "execution_count": 10,
     "metadata": {},
     "output_type": "execute_result"
    }
   ],
   "source": [
    "random.sample(page_n_text , k = 1)"
   ]
  },
  {
   "cell_type": "code",
   "execution_count": 11,
   "id": "98451dec",
   "metadata": {},
   "outputs": [
    {
     "data": {
      "text/html": [
       "<div>\n",
       "<style scoped>\n",
       "    .dataframe tbody tr th:only-of-type {\n",
       "        vertical-align: middle;\n",
       "    }\n",
       "\n",
       "    .dataframe tbody tr th {\n",
       "        vertical-align: top;\n",
       "    }\n",
       "\n",
       "    .dataframe thead th {\n",
       "        text-align: right;\n",
       "    }\n",
       "</style>\n",
       "<table border=\"1\" class=\"dataframe\">\n",
       "  <thead>\n",
       "    <tr style=\"text-align: right;\">\n",
       "      <th></th>\n",
       "      <th>page_no</th>\n",
       "      <th>page_char_count</th>\n",
       "      <th>page_sentence_count</th>\n",
       "      <th>page_word_count</th>\n",
       "      <th>tokens</th>\n",
       "      <th>page_sentence_count_spacy</th>\n",
       "    </tr>\n",
       "  </thead>\n",
       "  <tbody>\n",
       "    <tr>\n",
       "      <th>count</th>\n",
       "      <td>1208.00</td>\n",
       "      <td>1208.00</td>\n",
       "      <td>1208.00</td>\n",
       "      <td>1208.00</td>\n",
       "      <td>1208.00</td>\n",
       "      <td>1208.00</td>\n",
       "    </tr>\n",
       "    <tr>\n",
       "      <th>mean</th>\n",
       "      <td>562.50</td>\n",
       "      <td>1148.59</td>\n",
       "      <td>9.97</td>\n",
       "      <td>198.89</td>\n",
       "      <td>287.15</td>\n",
       "      <td>10.32</td>\n",
       "    </tr>\n",
       "    <tr>\n",
       "      <th>std</th>\n",
       "      <td>348.86</td>\n",
       "      <td>560.44</td>\n",
       "      <td>6.19</td>\n",
       "      <td>95.75</td>\n",
       "      <td>140.11</td>\n",
       "      <td>6.30</td>\n",
       "    </tr>\n",
       "    <tr>\n",
       "      <th>min</th>\n",
       "      <td>-41.00</td>\n",
       "      <td>0.00</td>\n",
       "      <td>1.00</td>\n",
       "      <td>1.00</td>\n",
       "      <td>0.00</td>\n",
       "      <td>0.00</td>\n",
       "    </tr>\n",
       "    <tr>\n",
       "      <th>25%</th>\n",
       "      <td>260.75</td>\n",
       "      <td>762.75</td>\n",
       "      <td>4.00</td>\n",
       "      <td>134.00</td>\n",
       "      <td>190.69</td>\n",
       "      <td>5.00</td>\n",
       "    </tr>\n",
       "    <tr>\n",
       "      <th>50%</th>\n",
       "      <td>562.50</td>\n",
       "      <td>1232.50</td>\n",
       "      <td>10.00</td>\n",
       "      <td>215.00</td>\n",
       "      <td>308.12</td>\n",
       "      <td>10.00</td>\n",
       "    </tr>\n",
       "    <tr>\n",
       "      <th>75%</th>\n",
       "      <td>864.25</td>\n",
       "      <td>1605.25</td>\n",
       "      <td>14.00</td>\n",
       "      <td>271.25</td>\n",
       "      <td>401.31</td>\n",
       "      <td>15.00</td>\n",
       "    </tr>\n",
       "    <tr>\n",
       "      <th>max</th>\n",
       "      <td>1166.00</td>\n",
       "      <td>2308.00</td>\n",
       "      <td>32.00</td>\n",
       "      <td>429.00</td>\n",
       "      <td>577.00</td>\n",
       "      <td>28.00</td>\n",
       "    </tr>\n",
       "  </tbody>\n",
       "</table>\n",
       "</div>"
      ],
      "text/plain": [
       "       page_no  page_char_count  page_sentence_count  page_word_count  \\\n",
       "count  1208.00          1208.00              1208.00          1208.00   \n",
       "mean    562.50          1148.59                 9.97           198.89   \n",
       "std     348.86           560.44                 6.19            95.75   \n",
       "min     -41.00             0.00                 1.00             1.00   \n",
       "25%     260.75           762.75                 4.00           134.00   \n",
       "50%     562.50          1232.50                10.00           215.00   \n",
       "75%     864.25          1605.25                14.00           271.25   \n",
       "max    1166.00          2308.00                32.00           429.00   \n",
       "\n",
       "        tokens  page_sentence_count_spacy  \n",
       "count  1208.00                    1208.00  \n",
       "mean    287.15                      10.32  \n",
       "std     140.11                       6.30  \n",
       "min       0.00                       0.00  \n",
       "25%     190.69                       5.00  \n",
       "50%     308.12                      10.00  \n",
       "75%     401.31                      15.00  \n",
       "max     577.00                      28.00  "
      ]
     },
     "execution_count": 11,
     "metadata": {},
     "output_type": "execute_result"
    }
   ],
   "source": [
    "df = pd.DataFrame(page_n_text)\n",
    "df.describe().round(2)"
   ]
  },
  {
   "cell_type": "code",
   "execution_count": 12,
   "id": "45a4fc01",
   "metadata": {},
   "outputs": [
    {
     "data": {
      "text/plain": [
       "[[0, 1, 2, 3, 4, 5, 6, 7, 8, 9],\n",
       " [10, 11, 12, 13, 14, 15, 16, 17, 18, 19],\n",
       " [20, 21, 22, 23, 24, 25, 26, 27, 28, 29]]"
      ]
     },
     "execution_count": 12,
     "metadata": {},
     "output_type": "execute_result"
    }
   ],
   "source": [
    "#splitting group of sentences into smaller chunks\n",
    "num_sentence_split_range = 10\n",
    "\n",
    "def split_list(input_list = list[str],\n",
    "              slice_size = num_sentence_split_range) -> list[list[str]]:\n",
    "    return [input_list[i : i + slice_size] for i in range(0, len(input_list), slice_size)]\n",
    "\n",
    "test_l = list(range(30))\n",
    "split_list(test_l)"
   ]
  },
  {
   "cell_type": "code",
   "execution_count": 13,
   "id": "7d88e5c5",
   "metadata": {},
   "outputs": [
    {
     "data": {
      "text/plain": [
       "['I am going', ' to comple', 'te my task']"
      ]
     },
     "execution_count": 13,
     "metadata": {},
     "output_type": "execute_result"
    }
   ],
   "source": [
    "#trying with sentences\n",
    "test_sen = \"I am going to complete my task\"\n",
    "split_list(test_sen)"
   ]
  },
  {
   "cell_type": "code",
   "execution_count": 14,
   "id": "f9943eb4",
   "metadata": {},
   "outputs": [
    {
     "name": "stdout",
     "output_type": "stream",
     "text": [
      "<class 'list'>\n"
     ]
    }
   ],
   "source": [
    "for item in page_n_text:\n",
    "    item[\"sentences_chunks\"] = split_list(input_list = item['sentences'],\n",
    "                                  slice_size= num_sentence_split_range)\n",
    "    item['num_chunks'] = len(item[\"sentences\"])\n",
    "    \n",
    "item[\"sentences_chunks\"] =(item[\"sentences_chunks\"])\n",
    "print(type(item[\"sentences_chunks\"]))"
   ]
  },
  {
   "cell_type": "code",
   "execution_count": 15,
   "id": "ad920a5b",
   "metadata": {},
   "outputs": [
    {
     "data": {
      "text/plain": [
       "[{'page_no': 511,\n",
       "  'page_char_count': 321,\n",
       "  'page_sentence_count': 2,\n",
       "  'page_word_count': 45,\n",
       "  'tokens': 80.25,\n",
       "  'text': 'http:/ /pressbooks.oer.hawaii.edu/ humannutrition2/?p=317  \\xa0 An interactive or media element has been  excluded from this version of the text. You can  view it online here:  http:/ /pressbooks.oer.hawaii.edu/ humannutrition2/?p=317  Dietary, Behavioral, and Physical Activity Recommendations for Weight Management  |  511',\n",
       "  'sentences': ['http:/ /pressbooks.oer.hawaii.edu/ humannutrition2/?p=317  \\xa0 An interactive or media element has been  excluded from this version of the text.',\n",
       "   'You can  view it online here:  http:/ /pressbooks.oer.hawaii.edu/ humannutrition2/?p=317  Dietary, Behavioral, and Physical Activity Recommendations for Weight Management  |  511'],\n",
       "  'page_sentence_count_spacy': 2,\n",
       "  'sentences_chunks': [['http:/ /pressbooks.oer.hawaii.edu/ humannutrition2/?p=317  \\xa0 An interactive or media element has been  excluded from this version of the text.',\n",
       "    'You can  view it online here:  http:/ /pressbooks.oer.hawaii.edu/ humannutrition2/?p=317  Dietary, Behavioral, and Physical Activity Recommendations for Weight Management  |  511']],\n",
       "  'num_chunks': 2},\n",
       " {'page_no': 153,\n",
       "  'page_char_count': 1792,\n",
       "  'page_sentence_count': 13,\n",
       "  'page_word_count': 301,\n",
       "  'tokens': 448.0,\n",
       "  'text': 'between cells and their surrounding environment. Osmoregulation  is the control of fluid balance and composition in the body. The  processes involved keep fluids from becoming too dilute or too  concentrated. Fluid compartments are separated by selectively  permeable membranes, which allow some things, such as water,  to move through while other substances require special transport  proteins, channels, and often energy. The movement of water  between fluid compartments happens by osmosis, which is simply  the movement of water through a selectively permeable membrane  from an area where it is highly concentrated to an area where it  is not so concentrated. Water is never transported actively; that is,  it never takes energy for water to move between compartments.  Although cells do not directly control water movement, they do  control movement of electrolytes and other solutes and thus  indirectly regulate water movement by controlling where there will  be regions of high and low concentrations.  Cells maintain their water volume at a constant level, but the  composition of solutes in a cell is in a continuous state of flux.  This is because cells are bringing nutrients in, metabolizing them,  and disposing of waste products. To maintain water balance a cell  controls the movement of electrolytes to keep the total number of  dissolved particles, called osmolality the same inside and outside  (Figure 3.3 “Osmoregulation”). The total number of dissolved  substances is the same inside and outside a cell, but the  composition of the fluids differs between compartments. For  example, sodium exists in extracellular fluid at fourteen times the  concentration as compared to that inside a cell.  Figure 3.3 Osmoregulation  Overview of Fluid and Electrolyte Balance  |  153',\n",
       "  'sentences': ['between cells and their surrounding environment.',\n",
       "   'Osmoregulation  is the control of fluid balance and composition in the body.',\n",
       "   'The  processes involved keep fluids from becoming too dilute or too  concentrated.',\n",
       "   'Fluid compartments are separated by selectively  permeable membranes, which allow some things, such as water,  to move through while other substances require special transport  proteins, channels, and often energy.',\n",
       "   'The movement of water  between fluid compartments happens by osmosis, which is simply  the movement of water through a selectively permeable membrane  from an area where it is highly concentrated to an area where it  is not so concentrated.',\n",
       "   'Water is never transported actively; that is,  it never takes energy for water to move between compartments.',\n",
       "   ' Although cells do not directly control water movement, they do  control movement of electrolytes and other solutes and thus  indirectly regulate water movement by controlling where there will  be regions of high and low concentrations.',\n",
       "   ' Cells maintain their water volume at a constant level, but the  composition of solutes in a cell is in a continuous state of flux.',\n",
       "   ' This is because cells are bringing nutrients in, metabolizing them,  and disposing of waste products.',\n",
       "   'To maintain water balance a cell  controls the movement of electrolytes to keep the total number of  dissolved particles, called osmolality the same inside and outside  (Figure 3.3 “Osmoregulation”).',\n",
       "   'The total number of dissolved  substances is the same inside and outside a cell, but the  composition of the fluids differs between compartments.',\n",
       "   'For  example, sodium exists in extracellular fluid at fourteen times the  concentration as compared to that inside a cell.',\n",
       "   ' Figure 3.3 Osmoregulation  Overview of Fluid and Electrolyte Balance  |  153'],\n",
       "  'page_sentence_count_spacy': 13,\n",
       "  'sentences_chunks': [['between cells and their surrounding environment.',\n",
       "    'Osmoregulation  is the control of fluid balance and composition in the body.',\n",
       "    'The  processes involved keep fluids from becoming too dilute or too  concentrated.',\n",
       "    'Fluid compartments are separated by selectively  permeable membranes, which allow some things, such as water,  to move through while other substances require special transport  proteins, channels, and often energy.',\n",
       "    'The movement of water  between fluid compartments happens by osmosis, which is simply  the movement of water through a selectively permeable membrane  from an area where it is highly concentrated to an area where it  is not so concentrated.',\n",
       "    'Water is never transported actively; that is,  it never takes energy for water to move between compartments.',\n",
       "    ' Although cells do not directly control water movement, they do  control movement of electrolytes and other solutes and thus  indirectly regulate water movement by controlling where there will  be regions of high and low concentrations.',\n",
       "    ' Cells maintain their water volume at a constant level, but the  composition of solutes in a cell is in a continuous state of flux.',\n",
       "    ' This is because cells are bringing nutrients in, metabolizing them,  and disposing of waste products.',\n",
       "    'To maintain water balance a cell  controls the movement of electrolytes to keep the total number of  dissolved particles, called osmolality the same inside and outside  (Figure 3.3 “Osmoregulation”).'],\n",
       "   ['The total number of dissolved  substances is the same inside and outside a cell, but the  composition of the fluids differs between compartments.',\n",
       "    'For  example, sodium exists in extracellular fluid at fourteen times the  concentration as compared to that inside a cell.',\n",
       "    ' Figure 3.3 Osmoregulation  Overview of Fluid and Electrolyte Balance  |  153']],\n",
       "  'num_chunks': 13}]"
      ]
     },
     "execution_count": 15,
     "metadata": {},
     "output_type": "execute_result"
    }
   ],
   "source": [
    "random.sample(page_n_text, k = 2)"
   ]
  },
  {
   "cell_type": "code",
   "execution_count": 16,
   "id": "90e521bd",
   "metadata": {},
   "outputs": [
    {
     "data": {
      "text/html": [
       "<div>\n",
       "<style scoped>\n",
       "    .dataframe tbody tr th:only-of-type {\n",
       "        vertical-align: middle;\n",
       "    }\n",
       "\n",
       "    .dataframe tbody tr th {\n",
       "        vertical-align: top;\n",
       "    }\n",
       "\n",
       "    .dataframe thead th {\n",
       "        text-align: right;\n",
       "    }\n",
       "</style>\n",
       "<table border=\"1\" class=\"dataframe\">\n",
       "  <thead>\n",
       "    <tr style=\"text-align: right;\">\n",
       "      <th></th>\n",
       "      <th>page_no</th>\n",
       "      <th>page_char_count</th>\n",
       "      <th>page_sentence_count</th>\n",
       "      <th>page_word_count</th>\n",
       "      <th>tokens</th>\n",
       "      <th>page_sentence_count_spacy</th>\n",
       "      <th>num_chunks</th>\n",
       "    </tr>\n",
       "  </thead>\n",
       "  <tbody>\n",
       "    <tr>\n",
       "      <th>count</th>\n",
       "      <td>1208.00</td>\n",
       "      <td>1208.00</td>\n",
       "      <td>1208.00</td>\n",
       "      <td>1208.00</td>\n",
       "      <td>1208.00</td>\n",
       "      <td>1208.00</td>\n",
       "      <td>1208.00</td>\n",
       "    </tr>\n",
       "    <tr>\n",
       "      <th>mean</th>\n",
       "      <td>562.50</td>\n",
       "      <td>1148.59</td>\n",
       "      <td>9.97</td>\n",
       "      <td>198.89</td>\n",
       "      <td>287.15</td>\n",
       "      <td>10.32</td>\n",
       "      <td>10.32</td>\n",
       "    </tr>\n",
       "    <tr>\n",
       "      <th>std</th>\n",
       "      <td>348.86</td>\n",
       "      <td>560.44</td>\n",
       "      <td>6.19</td>\n",
       "      <td>95.75</td>\n",
       "      <td>140.11</td>\n",
       "      <td>6.30</td>\n",
       "      <td>6.30</td>\n",
       "    </tr>\n",
       "    <tr>\n",
       "      <th>min</th>\n",
       "      <td>-41.00</td>\n",
       "      <td>0.00</td>\n",
       "      <td>1.00</td>\n",
       "      <td>1.00</td>\n",
       "      <td>0.00</td>\n",
       "      <td>0.00</td>\n",
       "      <td>0.00</td>\n",
       "    </tr>\n",
       "    <tr>\n",
       "      <th>25%</th>\n",
       "      <td>260.75</td>\n",
       "      <td>762.75</td>\n",
       "      <td>4.00</td>\n",
       "      <td>134.00</td>\n",
       "      <td>190.69</td>\n",
       "      <td>5.00</td>\n",
       "      <td>5.00</td>\n",
       "    </tr>\n",
       "    <tr>\n",
       "      <th>50%</th>\n",
       "      <td>562.50</td>\n",
       "      <td>1232.50</td>\n",
       "      <td>10.00</td>\n",
       "      <td>215.00</td>\n",
       "      <td>308.12</td>\n",
       "      <td>10.00</td>\n",
       "      <td>10.00</td>\n",
       "    </tr>\n",
       "    <tr>\n",
       "      <th>75%</th>\n",
       "      <td>864.25</td>\n",
       "      <td>1605.25</td>\n",
       "      <td>14.00</td>\n",
       "      <td>271.25</td>\n",
       "      <td>401.31</td>\n",
       "      <td>15.00</td>\n",
       "      <td>15.00</td>\n",
       "    </tr>\n",
       "    <tr>\n",
       "      <th>max</th>\n",
       "      <td>1166.00</td>\n",
       "      <td>2308.00</td>\n",
       "      <td>32.00</td>\n",
       "      <td>429.00</td>\n",
       "      <td>577.00</td>\n",
       "      <td>28.00</td>\n",
       "      <td>28.00</td>\n",
       "    </tr>\n",
       "  </tbody>\n",
       "</table>\n",
       "</div>"
      ],
      "text/plain": [
       "       page_no  page_char_count  page_sentence_count  page_word_count  \\\n",
       "count  1208.00          1208.00              1208.00          1208.00   \n",
       "mean    562.50          1148.59                 9.97           198.89   \n",
       "std     348.86           560.44                 6.19            95.75   \n",
       "min     -41.00             0.00                 1.00             1.00   \n",
       "25%     260.75           762.75                 4.00           134.00   \n",
       "50%     562.50          1232.50                10.00           215.00   \n",
       "75%     864.25          1605.25                14.00           271.25   \n",
       "max    1166.00          2308.00                32.00           429.00   \n",
       "\n",
       "        tokens  page_sentence_count_spacy  num_chunks  \n",
       "count  1208.00                    1208.00     1208.00  \n",
       "mean    287.15                      10.32       10.32  \n",
       "std     140.11                       6.30        6.30  \n",
       "min       0.00                       0.00        0.00  \n",
       "25%     190.69                       5.00        5.00  \n",
       "50%     308.12                      10.00       10.00  \n",
       "75%     401.31                      15.00       15.00  \n",
       "max     577.00                      28.00       28.00  "
      ]
     },
     "execution_count": 16,
     "metadata": {},
     "output_type": "execute_result"
    }
   ],
   "source": [
    "df = pd.DataFrame(page_n_text)\n",
    "df.describe().round(2)"
   ]
  },
  {
   "cell_type": "code",
   "execution_count": 17,
   "id": "85cab889",
   "metadata": {},
   "outputs": [
    {
     "data": {
      "text/plain": [
       "1843"
      ]
     },
     "execution_count": 17,
     "metadata": {},
     "output_type": "execute_result"
    }
   ],
   "source": [
    "import re\n",
    "#regex\n",
    "pages_and_chunks = []\n",
    "\n",
    "for item in page_n_text:\n",
    "    for sentence_chunk in item[\"sentences_chunks\"]:\n",
    "        chunk_dict = {}\n",
    "        chunk_dict[\"page_number\"] = item[\"page_no\"]\n",
    "        #print(chunk_dict[\"page_number\"])\n",
    "        #print(type(item[\"sentences_chunks\"]))\n",
    "        #joining sentences into paragraph\n",
    "        #joined_sentence_chunk = str(item[\"sentences_chunks\"]).replace(\"  \",\" \").strip()\n",
    "        joined_sentence_chunk = str(item[\"sentences_chunks\"]).replace(', ',\"\").strip()\n",
    "        joined_sentence_chunk = re.sub(r'\\.([A-Z])',r'.\\1', joined_sentence_chunk) #will convert \".A\" ----> \". A\"\n",
    "        \n",
    "        chunk_dict[\"joined_sentence_chunk\"] = joined_sentence_chunk\n",
    "        \n",
    "        #stats\n",
    "        chunk_dict[\"chunk_char_count\"] = len(joined_sentence_chunk)\n",
    "        chunk_dict[\"chunk_word_count\"] = len([word for word in joined_sentence_chunk.split(\" \")])\n",
    "        chunk_dict[\"chunk_token_count\"] = len(joined_sentence_chunk)/ 4\n",
    "        \n",
    "        pages_and_chunks.append(chunk_dict)\n",
    "        \n",
    "len(pages_and_chunks)\n"
   ]
  },
  {
   "cell_type": "code",
   "execution_count": 18,
   "id": "92bac440",
   "metadata": {},
   "outputs": [
    {
     "data": {
      "text/html": [
       "<div>\n",
       "<style scoped>\n",
       "    .dataframe tbody tr th:only-of-type {\n",
       "        vertical-align: middle;\n",
       "    }\n",
       "\n",
       "    .dataframe tbody tr th {\n",
       "        vertical-align: top;\n",
       "    }\n",
       "\n",
       "    .dataframe thead th {\n",
       "        text-align: right;\n",
       "    }\n",
       "</style>\n",
       "<table border=\"1\" class=\"dataframe\">\n",
       "  <thead>\n",
       "    <tr style=\"text-align: right;\">\n",
       "      <th></th>\n",
       "      <th>page_number</th>\n",
       "      <th>chunk_char_count</th>\n",
       "      <th>chunk_word_count</th>\n",
       "      <th>chunk_token_count</th>\n",
       "    </tr>\n",
       "  </thead>\n",
       "  <tbody>\n",
       "    <tr>\n",
       "      <th>count</th>\n",
       "      <td>1843.0</td>\n",
       "      <td>1843.0</td>\n",
       "      <td>1843.0</td>\n",
       "      <td>1843.0</td>\n",
       "    </tr>\n",
       "    <tr>\n",
       "      <th>mean</th>\n",
       "      <td>583.0</td>\n",
       "      <td>1327.0</td>\n",
       "      <td>206.0</td>\n",
       "      <td>332.0</td>\n",
       "    </tr>\n",
       "    <tr>\n",
       "      <th>std</th>\n",
       "      <td>348.0</td>\n",
       "      <td>500.0</td>\n",
       "      <td>76.0</td>\n",
       "      <td>125.0</td>\n",
       "    </tr>\n",
       "    <tr>\n",
       "      <th>min</th>\n",
       "      <td>-41.0</td>\n",
       "      <td>23.0</td>\n",
       "      <td>4.0</td>\n",
       "      <td>6.0</td>\n",
       "    </tr>\n",
       "    <tr>\n",
       "      <th>25%</th>\n",
       "      <td>280.0</td>\n",
       "      <td>1023.0</td>\n",
       "      <td>165.0</td>\n",
       "      <td>256.0</td>\n",
       "    </tr>\n",
       "    <tr>\n",
       "      <th>50%</th>\n",
       "      <td>586.0</td>\n",
       "      <td>1444.0</td>\n",
       "      <td>220.0</td>\n",
       "      <td>361.0</td>\n",
       "    </tr>\n",
       "    <tr>\n",
       "      <th>75%</th>\n",
       "      <td>890.0</td>\n",
       "      <td>1690.0</td>\n",
       "      <td>260.0</td>\n",
       "      <td>422.0</td>\n",
       "    </tr>\n",
       "    <tr>\n",
       "      <th>max</th>\n",
       "      <td>1166.0</td>\n",
       "      <td>2290.0</td>\n",
       "      <td>391.0</td>\n",
       "      <td>572.0</td>\n",
       "    </tr>\n",
       "  </tbody>\n",
       "</table>\n",
       "</div>"
      ],
      "text/plain": [
       "       page_number  chunk_char_count  chunk_word_count  chunk_token_count\n",
       "count       1843.0            1843.0            1843.0             1843.0\n",
       "mean         583.0            1327.0             206.0              332.0\n",
       "std          348.0             500.0              76.0              125.0\n",
       "min          -41.0              23.0               4.0                6.0\n",
       "25%          280.0            1023.0             165.0              256.0\n",
       "50%          586.0            1444.0             220.0              361.0\n",
       "75%          890.0            1690.0             260.0              422.0\n",
       "max         1166.0            2290.0             391.0              572.0"
      ]
     },
     "execution_count": 18,
     "metadata": {},
     "output_type": "execute_result"
    }
   ],
   "source": [
    "df = pd.DataFrame(data= pages_and_chunks)\n",
    "df.describe().round()"
   ]
  },
  {
   "cell_type": "code",
   "execution_count": 19,
   "id": "9e593268",
   "metadata": {},
   "outputs": [
    {
     "data": {
      "text/plain": [
       "[{'page_number': 718,\n",
       "  'joined_sentence_chunk': \"[['Discovering Nutrition Facts  UNIVERSITY OF HAWAI‘I AT MĀNOA FOOD SCIENCE AND HUMAN  NUTRITION PROGRAM AND HUMAN NUTRITION PROGRAM  The Labels on Your Food  Understanding the significance of dietary guidelines and how to  use DRIs in planning your nutrient intakes can make you better  equipped to select the right foods the next time you go to the  supermarket.'' In the United Statesthe Nutrition Labeling and Education Act  (NLEA) passed in 1990 and came into effect in 1994.''In Canada mandatory labeling came into effect in 2005.''As a resultall  packaged foods sold in the United States and Canada must have  nutrition labels that accurately reflect the contents of the food  products.''There are several mandated nutrients and some optional  ones that manufacturers or packagers include.'' In May2016 a new Nutrition Facts label for packaged foods beverages and dietary supplements was announced.''This label  reflects new scientific information and will make it easier for  consumers to make informed food choices.''Some of the changes  made to the label include:  • Increased type size for “Calories,” “servings per container,” and  “Serving size.”'' • Bolded type for the number of calories and the “Serving size.”'' • Actual amounts of vitamin Dcalciumironand potassium (in  addition to the Daily Value amounts) are required to be listed.'][' Vitamins A and C are now voluntary.'' • Improved footnote to better explain that the Daily Value is  based on a 2,000 calories a day diet.'' 718  |  Discovering Nutrition Facts']]\",\n",
       "  'chunk_char_count': 1535,\n",
       "  'chunk_word_count': 257,\n",
       "  'chunk_token_count': 383.75},\n",
       " {'page_number': 888,\n",
       "  'joined_sentence_chunk': \"[['Learning Activities  Technology Note: The second edition of the Human  Nutrition Open Educational Resource (OER) textbook  features interactive learning activities.''\\\\xa0 These activities are  available in the web-based textbook and not available in the  downloadable versions (EPUBDigital PDFPrint_PDFor  Open Document).'' Learning activities may be used across various mobile  deviceshoweverfor the best user experience it is strongly  recommended that users complete these activities using a  desktop or laptop computer and in Google Chrome.'' \\\\xa0 An interactive or media element has been  excluded from this version of the text.''You can  view it online here:  http:/ /pressbooks.oer.hawaii.edu/ humannutrition2/?p=469  \\\\xa0 888  |  Adolescence']]\",\n",
       "  'chunk_char_count': 755,\n",
       "  'chunk_word_count': 113,\n",
       "  'chunk_token_count': 188.75}]"
      ]
     },
     "execution_count": 19,
     "metadata": {},
     "output_type": "execute_result"
    }
   ],
   "source": [
    "random.sample(pages_and_chunks, k = 2)"
   ]
  },
  {
   "cell_type": "code",
   "execution_count": 20,
   "id": "ce5a8d54",
   "metadata": {},
   "outputs": [
    {
     "name": "stdout",
     "output_type": "stream",
     "text": [
      "Chunks token count: 26.5\n",
      "Chunks token count: 20.0\n",
      "Chunks token count: 27.25\n",
      "Chunks token count: 6.25\n",
      "Chunks token count: 17.0\n",
      "Chunks token count: 26.0\n",
      "Chunks token count: 24.75\n",
      "Chunks token count: 23.75\n",
      "Chunks token count: 19.75\n",
      "Chunks token count: 24.0\n",
      "The rows which contain less than minimun tokens: 10\n"
     ]
    }
   ],
   "source": [
    "min_chunk_token_count = 30\n",
    "count = 0\n",
    "\n",
    "for row in df[df[\"chunk_token_count\"] <= min_chunk_token_count].sample(10).iterrows():\n",
    "    count +=1\n",
    "    print(f\"Chunks token count: {row[1]['chunk_token_count']}\")\n",
    "print(f\"The rows which contain less than minimun tokens: {count}\")"
   ]
  },
  {
   "cell_type": "code",
   "execution_count": 21,
   "id": "5da8f364",
   "metadata": {},
   "outputs": [
    {
     "data": {
      "text/plain": [
       "[{'page_number': 985,\n",
       "  'joined_sentence_chunk': \"[['PART\\\\xa0XVII  CHAPTER 17.''FOOD SAFETY  Chapter 17.''Food Safety  |  985']]\",\n",
       "  'chunk_char_count': 78,\n",
       "  'chunk_word_count': 13,\n",
       "  'chunk_token_count': 19.5},\n",
       " {'page_number': 991,\n",
       "  'joined_sentence_chunk': \"[['http:/ /pressbooks.oer.hawaii.edu/ humannutrition2/?p=519  \\\\xa0 Introduction  |  991']]\",\n",
       "  'chunk_char_count': 90,\n",
       "  'chunk_word_count': 10,\n",
       "  'chunk_token_count': 22.5},\n",
       " {'page_number': 996,\n",
       "  'joined_sentence_chunk': \"[['http:/ /pressbooks.oer.hawaii.edu/ humannutrition2/?p=521  \\\\xa0 996  |  The Major Types of Foodborne Illness']]\",\n",
       "  'chunk_char_count': 114,\n",
       "  'chunk_word_count': 15,\n",
       "  'chunk_token_count': 28.5},\n",
       " {'page_number': 1041,\n",
       "  'joined_sentence_chunk': \"[['PART\\\\xa0XVIII  CHAPTER 18.'' NUTRITIONAL ISSUES  Chapter 18.''Nutritional Issues  |  1041']]\",\n",
       "  'chunk_char_count': 95,\n",
       "  'chunk_word_count': 14,\n",
       "  'chunk_token_count': 23.75},\n",
       " {'page_number': 1149,\n",
       "  'joined_sentence_chunk': \"[['PART\\\\xa0XIX  APPENDICES  Appendices  |  1149']]\",\n",
       "  'chunk_char_count': 50,\n",
       "  'chunk_word_count': 9,\n",
       "  'chunk_token_count': 12.5}]"
      ]
     },
     "execution_count": 21,
     "metadata": {},
     "output_type": "execute_result"
    }
   ],
   "source": [
    "#filter records which has above 30 tokens\n",
    "pages_chunks_over_min_tokens = df[df[\"chunk_token_count\"]> min_chunk_token_count].to_dict(orient = 'records')\n",
    "pages_chunks_over_min_tokens[-5:]\n",
    "\n",
    "#filter records which has above 30 tokens\n",
    "pages_chunks_under_min_tokens = df[df[\"chunk_token_count\"] <= min_chunk_token_count].to_dict(orient = 'records')\n",
    "pages_chunks_under_min_tokens[-5:]"
   ]
  },
  {
   "cell_type": "code",
   "execution_count": 22,
   "id": "3fd98469",
   "metadata": {},
   "outputs": [
    {
     "data": {
      "text/plain": [
       "[{'page_number': 36,\n",
       "  'joined_sentence_chunk': \"[['Experimental test.''Coindet administered iodine tincture orally to  his patients with goiter.'' Interpret results.''Coindet’s iodine treatment was successful.'' \\\\xa0 Hypothesis.''French chemist Chatin proposed that the low iodine  content in food and water in certain areas far away from the ocean  was the primary cause of goiterand renounced the theory that  goiter was the result of poor hygiene.'' Experimental test.''In the late 1860s the program“The stamping- out of goiter,” started with people in several villages in France being  given iodine tablets.'' Results.''The program was effective and 80 percent of goitrous  children were cured.'][' \\\\xa0 Hypothesis.''In 1918Swiss doctor Bayard proposed iodizing salt as  a good way to treat areas endemic with goiter.'' Experimental test.''Iodized salt was transported by mules to a  small village at the base of the Matterhorn where more than 75  percent of school children were goitrous.''It was given to families to  use for six months.'' Results.''The iodized salt was beneficial in treating goiter in this  remote population.'' \\\\xa0 Experimental test.''Physician David Marine conducted the first  experiment of treating goiter with iodized salt in America in Akron Ohio.2  of Nutrition,\\\\xa0138(11)2060–63.''http:/ /jn.nutrition.org/ content/138/11/2060.full  2.']['\\\\xa0CarpenterK.J. (2005).''David Marine and the Problem of  Goiter.''Journal of Nutrition,\\\\xa0135(4) 675–80.''\\\\xa0http:/ /jn.nutrition.org/content/135/4/ 675.full?sid=d06fdd35-566f -42a2-a3fd- efbe0736b7ba  36  |  Research and the Scientific Method']]\",\n",
       "  'chunk_char_count': 1577,\n",
       "  'chunk_word_count': 221,\n",
       "  'chunk_token_count': 394.25}]"
      ]
     },
     "execution_count": 22,
     "metadata": {},
     "output_type": "execute_result"
    }
   ],
   "source": [
    "random.sample(pages_chunks_over_min_tokens, k = 1)"
   ]
  },
  {
   "cell_type": "code",
   "execution_count": 23,
   "id": "3e3ab481",
   "metadata": {},
   "outputs": [
    {
     "data": {
      "text/plain": [
       "[{'page_number': 566,\n",
       "  'joined_sentence_chunk': \"[['Image by  Allison  Calabrese /  CC BY 4.0  Figure 9.13 Niacin DeficiencyPellagra  566  |  Water-Soluble Vitamins']]\",\n",
       "  'chunk_char_count': 118,\n",
       "  'chunk_word_count': 23,\n",
       "  'chunk_token_count': 29.5}]"
      ]
     },
     "execution_count": 23,
     "metadata": {},
     "output_type": "execute_result"
    }
   ],
   "source": [
    "random.sample(pages_chunks_under_min_tokens, k = 1)"
   ]
  },
  {
   "cell_type": "code",
   "execution_count": 24,
   "id": "df8d0401",
   "metadata": {},
   "outputs": [
    {
     "name": "stderr",
     "output_type": "stream",
     "text": [
      "C:\\Users\\Amogh\\anaconda3\\Lib\\site-packages\\sentence_transformers\\cross_encoder\\CrossEncoder.py:11: TqdmExperimentalWarning: Using `tqdm.autonotebook.tqdm` in notebook mode. Use `tqdm.tqdm` instead to force console mode (e.g. in jupyter console)\n",
      "  from tqdm.autonotebook import tqdm, trange\n"
     ]
    },
    {
     "name": "stdout",
     "output_type": "stream",
     "text": [
      "Sentences: I am learning how to encode.\n",
      "Embedding: [[-7.46155903e-02  2.72197843e-01 -6.01287365e-01 -4.70794439e-01\n",
      "   1.39084533e-01  6.28371835e-02  3.84253055e-01 -3.29041064e-01\n",
      "  -2.85437196e-01  2.27416366e-01 -1.20166160e-01 -9.13999081e-02\n",
      "  -2.58455187e-01  1.58748284e-01 -2.20847532e-01  1.18509255e-01\n",
      "  -2.47332409e-01  4.59454954e-01 -1.25361115e-01 -7.92469800e-01\n",
      "   6.07421756e-01  1.60733551e-01  1.61121294e-01 -1.55290946e-01\n",
      "   1.68903992e-01  4.61014748e-01  1.54409662e-01  5.65169826e-02\n",
      "   3.01602185e-01 -6.53961599e-01  1.03638113e-01 -8.24963599e-02\n",
      "   4.80767637e-01  1.85416266e-01 -2.94955492e-01 -9.63082165e-03\n",
      "   2.06072360e-01  4.09184128e-01 -4.09494862e-02 -3.54223907e-01\n",
      "  -1.18471637e-01  4.61741798e-02 -2.52610922e-01  1.09598920e-01\n",
      "   5.06579041e-01 -1.20739423e-01 -4.40171480e-01  5.08030541e-02\n",
      "   2.54043899e-02  1.05048276e-01  4.90897428e-03  2.59834349e-01\n",
      "  -4.44753468e-01  1.11365750e-01 -3.56059849e-01  2.19481066e-01\n",
      "   3.73312645e-02  3.44302692e-02 -3.37643653e-01  1.38736382e-01\n",
      "  -1.17368437e-01 -1.13239482e-01 -2.46559337e-01  2.98768431e-01\n",
      "  -4.97279823e-01  1.21726856e-01  1.82536379e-01  3.68613809e-01\n",
      "  -1.96129143e-01 -4.84429210e-01 -4.19680059e-01 -1.80999041e-01\n",
      "  -4.45131153e-01  4.62568432e-01 -4.60649058e-02 -1.22595881e-03\n",
      "  -2.47838408e-01  2.99694389e-01  1.00401558e-01  8.47758129e-02\n",
      "   2.37895809e-02  1.00433312e-01  1.78920120e-01  5.98268621e-02\n",
      "   3.37971032e-01  4.08185959e-01  1.75458252e-01  1.00346945e-01\n",
      "   2.74110883e-01  1.43469140e-01  8.51348191e-02 -7.02600479e-01\n",
      "  -2.71533817e-01  3.23619276e-01  2.54149139e-01  1.34182051e-01\n",
      "   5.61752796e-01 -2.82434821e-02 -9.14414078e-02  8.59122053e-02\n",
      "  -2.98417479e-01 -2.84184515e-01 -5.09807348e-01 -3.18277746e-01\n",
      "   4.41565476e-02 -2.61256307e-01  5.47700047e-01 -4.58597392e-02\n",
      "   5.72647452e-01 -6.78532481e-01  1.10785708e-01 -3.02398880e-03\n",
      "  -2.91716963e-01  5.39612547e-02  1.17601752e-01  3.58157873e-01\n",
      "  -8.60925317e-02  6.26337808e-03  5.17154574e-01  6.08485401e-01\n",
      "   1.03495583e-01 -1.08648196e-01 -6.60538554e-01  6.59724474e-01\n",
      "   1.88114285e-01  1.43210977e-01  1.47324771e-01  2.81371295e-01\n",
      "   7.69094229e-02  1.17369726e-01  2.97915876e-01  2.30268046e-01\n",
      "   1.71604902e-01  1.21049598e-01 -2.16117986e-02 -9.64525330e-04\n",
      "  -6.15181088e-01 -8.26158300e-02 -2.12029457e-01 -3.91889483e-01\n",
      "  -1.82199687e-01  8.77223492e-01  1.18587174e-01  1.59507722e-01\n",
      "  -4.83370483e-01  3.08136642e-01 -3.57538983e-02  2.91960299e-01\n",
      "  -4.52306680e-02 -3.48256052e-01 -3.31367105e-01 -7.24332154e-01\n",
      "   2.08200052e-01  9.88329276e-02  3.64101112e-01 -3.18123251e-01\n",
      "   3.99446577e-01  2.58153170e-01 -1.43003585e-02 -7.13140905e-01\n",
      "  -3.50990117e-01  2.12315440e-01 -2.37085909e-01 -4.47625145e-02\n",
      "   5.27961314e-01  3.40690821e-01  6.02710955e-02 -1.66003093e-01\n",
      "   4.10108939e-02  5.94019368e-02  1.29670739e-01 -7.93788612e-01\n",
      "   2.16028407e-01 -7.44947046e-02  3.78400892e-01  1.26462907e-01\n",
      "   5.12006693e-02  1.13012031e-01  2.20191792e-01  1.79421499e-01\n",
      "  -3.31318736e-01 -2.20741510e-01  3.19265783e-01  3.27511311e-01\n",
      "   1.54948026e-01  4.94205534e-01  1.78699628e-01  5.34347832e-01\n",
      "  -5.52434087e-01  3.02778006e-01  8.31518322e-02  3.23088557e-01\n",
      "  -2.06749231e-01 -1.03087761e-01 -1.02265283e-01 -7.04330206e-01\n",
      "  -1.37191936e-01 -2.60547787e-01 -1.14224958e+00 -1.80370897e-01\n",
      "   2.20199019e-01 -1.41152114e-01 -8.28088373e-02 -9.30749699e-02\n",
      "  -2.04510257e-01 -3.72721463e-01 -3.90968710e-01  2.08481476e-01\n",
      "  -3.96171838e-01  8.48994911e-01  8.68489742e-02 -7.68924206e-02\n",
      "   1.39141575e-01 -4.14168745e-01 -1.48437498e-02 -7.04982758e-01\n",
      "  -2.43675262e-01  7.58920144e-03 -1.52744517e-01  3.47108990e-01\n",
      "  -1.94302887e-01 -4.66292769e-01  6.14485443e-01 -2.30853230e-01\n",
      "  -2.17043430e-01 -2.69803610e-02 -1.09481677e-01 -1.34288341e-01\n",
      "  -3.68738949e-01  4.79446203e-02  5.07415652e-01  1.89385965e-01\n",
      "   3.46080661e-02  4.76128459e-02 -1.35833904e-01  2.37795353e-01\n",
      "  -1.01791158e-01 -2.52124250e-01 -3.70401174e-01 -5.60552068e-02\n",
      "  -6.40883744e-01  6.47470355e-01  3.42010081e-01 -3.29600722e-01\n",
      "  -1.79577380e-01  5.19972444e-01  4.53697622e-01 -1.98497683e-01\n",
      "   2.93990523e-01  3.59342903e-01 -3.83828342e-01  6.44177258e-01\n",
      "   3.22076619e-01  1.85261518e-01 -1.11207319e-02 -1.49088711e-01\n",
      "  -4.47093427e-01  2.82546818e-01 -4.59879875e-01 -1.97592676e-01\n",
      "   9.93992209e-01 -1.60148218e-01  2.26001292e-01 -4.04634103e-02\n",
      "   1.36463225e-01  1.25634536e-01 -4.13459480e-01  2.87490517e-01\n",
      "  -5.28652191e-01 -1.27355441e-01 -4.40561235e-01  5.30377030e-01\n",
      "   2.54176736e-01  3.78472090e-01  2.48228744e-01 -3.09045315e-01\n",
      "  -4.55678642e-01 -8.15345645e-01  2.96991467e-02 -1.67958528e-01\n",
      "   1.28957808e-01 -3.01731825e-01  5.00524521e-01 -7.71493018e-02\n",
      "  -2.73690760e-01  1.39008388e-01  1.94298416e-01  2.75801122e-01\n",
      "   7.88674504e-02 -2.96370834e-01 -1.58957228e-01  5.00091434e-01\n",
      "  -5.42872071e-01  2.84679174e-01 -1.27300113e-01  9.97357741e-02\n",
      "  -1.27952859e-01  4.69486788e-02  4.36350018e-01 -5.19688800e-02\n",
      "  -3.93085569e-01 -1.13940939e-01 -7.50876188e-01 -1.11967310e-01\n",
      "   1.70717631e-02 -1.89881742e-01 -5.61969867e-03  3.22115600e-01\n",
      "   5.16073406e-01  9.96997058e-02  2.81379163e-01  4.18815911e-01\n",
      "  -3.90720088e-03  2.89405342e-02 -4.17178154e-01  8.01186860e-01\n",
      "  -4.70567167e-01  4.01086025e-02  1.48395970e-01 -9.07564312e-02\n",
      "  -8.62301230e-01 -3.93869609e-01 -1.96962237e-01 -3.34783196e-01\n",
      "  -3.58570844e-01  3.58618170e-01 -3.11675161e-01  8.89834613e-02\n",
      "  -2.41623729e-01 -5.54282665e-01  1.06037579e-01 -3.38181496e-01\n",
      "  -4.36450630e-01  4.54955518e-01  2.48511359e-01 -1.29650742e-01\n",
      "   4.41708624e-01  5.54474723e-03  9.52985436e-02  5.05488291e-02\n",
      "   1.56273067e-01  5.01515508e-01 -5.19036889e-01  2.88735867e-01\n",
      "   2.98416317e-01 -2.72817433e-01 -1.23898387e-01  6.54119670e-01\n",
      "   3.85896206e-01 -3.52043882e-02 -2.11010501e-01  3.49527448e-01\n",
      "   5.98344326e-01  3.61720592e-01  1.20293334e-01  8.57311413e-02\n",
      "   1.43714145e-01 -2.14050770e-01 -7.71764144e-02 -1.74972266e-01\n",
      "   1.47201587e-02 -2.31570885e-01 -4.33243275e-01 -1.93184704e-01\n",
      "   1.24436900e-01  1.70151025e-01  4.21125561e-01 -4.95096028e-01\n",
      "   1.29932821e-01  3.54227662e-01  1.79302365e-01 -2.14492589e-01\n",
      "   3.24940950e-01  2.22473055e-01  2.74155051e-01 -2.81332076e-01\n",
      "  -1.31100342e-01 -6.39204323e-01  6.57998383e-01  5.13515770e-01\n",
      "  -5.72373033e-01  4.79767859e-01 -2.86821630e-02 -2.66856104e-01]\n",
      " [-2.72035956e-01  4.80246186e-01  5.22958279e-01  2.53585130e-02\n",
      "  -3.37713629e-01 -3.82837176e-01  6.76632583e-01  2.44399812e-02\n",
      "  -2.47440293e-01  3.00061226e-01  1.42444223e-01 -6.02886736e-01\n",
      "  -3.19726050e-01 -2.51986951e-01  1.04954958e-01 -1.34700656e-01\n",
      "   4.49402004e-01 -3.11045438e-01 -3.98145527e-01 -3.15191239e-01\n",
      "  -3.57391030e-01  4.07208912e-02  3.51111181e-02  2.09172368e-01\n",
      "  -9.61992145e-03 -1.97598934e-01  7.95236453e-02  5.84617674e-01\n",
      "   3.23380083e-01 -3.68383557e-01  2.47820690e-01 -3.03901225e-01\n",
      "   3.78505617e-01 -6.03896379e-03  1.36442751e-01  5.01969635e-01\n",
      "   2.37174928e-01  7.46905580e-02 -1.95272490e-01 -3.22611630e-02\n",
      "   2.84747064e-01 -4.40788984e-01  2.05442414e-01  3.62032242e-02\n",
      "  -7.91390333e-03 -1.53565064e-01 -2.25167155e-01  2.17206165e-01\n",
      "   3.89554501e-01  1.97614897e-02 -3.77068408e-02  3.28241736e-02\n",
      "   2.98189018e-02  3.57046932e-01  6.61344945e-01  7.03640997e-01\n",
      "  -2.25585714e-01  5.81988394e-01 -5.33911251e-02 -2.01933965e-01\n",
      "  -3.30973975e-02 -2.77155071e-01 -3.50782782e-01  6.04857087e-01\n",
      "  -9.14099216e-02 -1.80557251e-01 -4.48485613e-01  4.58674669e-01\n",
      "  -6.16280913e-01 -7.16698945e-01 -2.93577224e-01  6.54615909e-02\n",
      "  -3.61289710e-01  3.88383269e-01  1.05009757e-01  1.77237636e-03\n",
      "   1.03037804e-01  2.31511950e-01  1.61026970e-01  3.25016111e-01\n",
      "   2.27006495e-01  3.09594810e-01 -2.34726593e-01 -5.37918806e-01\n",
      "   1.60860300e-01  1.85613081e-01  1.23873949e-02  1.00534044e-01\n",
      "  -1.41519949e-01 -3.50636572e-01 -7.47192860e-01  3.75517964e-01\n",
      "   2.22294971e-01  5.27891368e-02 -3.89240384e-02 -5.59560992e-02\n",
      "   2.72772551e-01 -1.46138236e-01 -5.72501004e-01  2.27755094e+00\n",
      "   4.28440094e-01  3.46546292e-01  2.27076616e-02  2.94447213e-01\n",
      "  -6.69390380e-01  2.02642068e-01 -2.98485547e-01  8.26588869e-02\n",
      "   1.31116942e-01  5.84362149e-02  1.07468121e-01 -3.05568516e-01\n",
      "  -3.03962320e-01  2.66903043e-01  5.54560006e-01  4.99498881e-02\n",
      "   1.26282990e-01  2.82514066e-01  6.95689976e-01 -3.20451766e-01\n",
      "  -1.56619847e-02 -2.26660684e-01 -1.53766930e-01 -1.71899989e-01\n",
      "  -7.92273581e-01 -3.90776157e-01  3.81509095e-01  3.36297154e-01\n",
      "  -6.76159337e-02  3.63952190e-01 -8.22412595e-02  8.47401083e-01\n",
      "   1.39095411e-01  3.85762930e-01 -2.71586716e-01 -1.46336272e-01\n",
      "  -3.13645363e-01 -2.58075684e-01  6.39533997e-03 -7.99123049e-02\n",
      "  -1.37505591e-01  2.50129160e-02 -6.26931712e-02 -3.34095240e-01\n",
      "   1.79184392e-01  7.59158731e-02 -2.07338139e-01  7.50194043e-02\n",
      "  -5.70459217e-02 -6.19871616e-01 -3.02272346e-02  4.45120186e-01\n",
      "   6.91011667e-01  4.29543406e-02  2.14444220e-01 -7.16160536e-02\n",
      "   1.47097111e+00  2.67890334e-01  2.19800428e-01 -3.22620928e-01\n",
      "  -2.99464673e-01 -9.18548703e-02  3.79160643e-01 -2.03392312e-01\n",
      "  -3.90304178e-01 -4.80601430e-01 -5.90293594e-02 -1.63166523e-01\n",
      "  -2.66269445e-01  2.07267225e-01 -4.36083704e-01 -1.69546783e-01\n",
      "  -2.42765639e-02  1.16114862e-01  4.69129562e-01  1.33813673e-03\n",
      "   9.82785404e-01  4.52081680e-01 -3.90195727e-01  1.71861097e-01\n",
      "  -1.02612782e+00 -2.54497468e-01 -1.14207424e-01  2.14765310e-01\n",
      "  -2.87657112e-01  3.19928139e-01 -1.29902363e-02  7.35848173e-02\n",
      "  -2.61199862e-01  6.56774342e-02 -2.84667939e-01 -2.17229441e-01\n",
      "  -1.32972002e-03 -4.10240740e-02  2.59338588e-01  1.26776561e-01\n",
      "   3.56498033e-01 -6.32261872e-01  3.11915781e-02 -2.95002818e-01\n",
      "  -1.59677342e-01  3.51140499e-01  4.22552496e-01 -1.34433404e-01\n",
      "   5.04367769e-01 -2.02825293e-01  2.28410527e-01  6.94766566e-02\n",
      "   4.88513619e-01  3.33689600e-01 -3.34743589e-01  3.92661430e-02\n",
      "   2.63535231e-01 -2.17336118e-01 -3.91492248e-03 -5.23485243e-01\n",
      "  -1.92245841e-01  5.92319191e-01 -3.65772575e-01  3.63504410e-01\n",
      "   2.92739719e-01  3.05135876e-01 -1.43278256e-01 -5.73841751e-01\n",
      "   7.62536764e-01 -3.60290736e-01 -8.19720507e-01 -2.50806510e-01\n",
      "   1.14397883e-01  1.28143029e-02  4.46315050e-01  8.14000607e-01\n",
      "  -6.28228962e-01 -5.81974769e-03  2.96194553e-02  4.38616842e-01\n",
      "   3.19075435e-01  5.04014790e-02  8.41936395e-02  1.65057287e-01\n",
      "   4.34430152e-01  6.44777343e-02 -3.30587417e-01  4.39352185e-01\n",
      "  -4.08311971e-02  6.35768592e-01 -1.02773619e+00  2.88284302e-01\n",
      "  -3.07470471e-01  9.29096639e-01 -2.74906177e-02  5.10686398e-01\n",
      "  -7.78814614e-01  1.64080366e-01 -2.13652313e-01  1.14582948e-01\n",
      "  -4.21274930e-01 -1.42584279e-01 -1.03690185e-01  6.62710130e-01\n",
      "   6.65728673e-02 -1.00044632e+00  1.75239682e-01 -2.89260954e-01\n",
      "   1.58789203e-01 -4.71120141e-02  4.30421121e-02  8.31543446e-01\n",
      "  -2.36652419e-01 -1.96913525e-01 -6.65292740e-01  3.54061872e-02\n",
      "   5.77163696e-03 -1.26268879e-01 -2.69444168e-01 -4.27042812e-01\n",
      "   3.20947081e-01  7.31751174e-02 -1.76236734e-01  2.44167641e-01\n",
      "  -7.04977751e-01 -2.48936966e-01  2.92549700e-01  3.10341030e-01\n",
      "  -4.94337469e-01 -5.89176007e-02  3.18473786e-01  4.37899709e-01\n",
      "  -6.30205393e-01 -2.93620735e-01  2.77370866e-02  1.35789678e-01\n",
      "  -8.16850886e-02 -5.97189844e-01  2.70564761e-02 -3.16395313e-01\n",
      "  -3.84105772e-01 -2.11768016e-01  7.41619021e-02  7.69609585e-02\n",
      "  -1.76628813e-01 -3.46496940e-01 -2.94003576e-01 -2.66849041e-01\n",
      "   1.56277969e-01  2.12243199e-01 -3.17986250e-01 -4.01036531e-01\n",
      "   4.07497257e-01 -1.36839285e-01 -9.31071416e-02  3.28242838e-01\n",
      "   2.70170718e-01 -5.99208586e-02  4.54097092e-02  4.56303023e-02\n",
      "  -3.59477609e-01  4.62572575e-01  3.84293422e-02 -2.62430459e-01\n",
      "   2.52505485e-02 -4.05428326e-03 -1.09481037e-01 -2.07377419e-01\n",
      "  -6.41565695e-02 -3.16916443e-02 -4.97216791e-01 -8.51002693e-01\n",
      "  -2.58961737e-01 -1.61078870e-01  4.32848483e-02 -1.73324123e-01\n",
      "  -3.51440459e-01  3.62244248e-03  3.10470611e-01  2.47265711e-01\n",
      "  -4.11918491e-01 -2.14883968e-01 -4.47546870e-01 -3.08705449e-01\n",
      "  -1.94315866e-01 -1.72657534e-01  3.10002523e-03  3.09318542e-01\n",
      "   2.09879592e-01  1.47703066e-01  1.39794752e-01  1.96649041e-02\n",
      "   2.36396432e-01 -3.46991330e-01  2.34494463e-01  1.15002501e+00\n",
      "  -3.38634402e-01 -2.57399529e-01  3.36977750e-01  6.57274341e-03\n",
      "  -6.12498559e-02  9.08255503e-02 -2.07341015e-01 -9.81357396e-01\n",
      "   3.92255753e-01  1.04293793e-01 -9.95102450e-02 -2.98545752e-02\n",
      "  -9.80801806e-02  3.67471695e-01  4.70653534e-01 -1.48090914e-01\n",
      "  -5.58260977e-01 -3.44926834e-01 -2.97403425e-01 -1.08802982e-01\n",
      "   4.53706175e-01  1.02569640e-01 -4.93455864e-03 -1.63566962e-01\n",
      "  -1.04695775e-01  8.39190111e-02 -8.82846117e-03  3.82537931e-01\n",
      "   5.00081599e-01  2.08693743e-02  3.39442082e-02  2.77020663e-01]]\n",
      "Embedding shape: (384,)\n",
      "\n",
      "\n",
      "Sentences: hello\n",
      "Embedding: [[-7.46155903e-02  2.72197843e-01 -6.01287365e-01 -4.70794439e-01\n",
      "   1.39084533e-01  6.28371835e-02  3.84253055e-01 -3.29041064e-01\n",
      "  -2.85437196e-01  2.27416366e-01 -1.20166160e-01 -9.13999081e-02\n",
      "  -2.58455187e-01  1.58748284e-01 -2.20847532e-01  1.18509255e-01\n",
      "  -2.47332409e-01  4.59454954e-01 -1.25361115e-01 -7.92469800e-01\n",
      "   6.07421756e-01  1.60733551e-01  1.61121294e-01 -1.55290946e-01\n",
      "   1.68903992e-01  4.61014748e-01  1.54409662e-01  5.65169826e-02\n",
      "   3.01602185e-01 -6.53961599e-01  1.03638113e-01 -8.24963599e-02\n",
      "   4.80767637e-01  1.85416266e-01 -2.94955492e-01 -9.63082165e-03\n",
      "   2.06072360e-01  4.09184128e-01 -4.09494862e-02 -3.54223907e-01\n",
      "  -1.18471637e-01  4.61741798e-02 -2.52610922e-01  1.09598920e-01\n",
      "   5.06579041e-01 -1.20739423e-01 -4.40171480e-01  5.08030541e-02\n",
      "   2.54043899e-02  1.05048276e-01  4.90897428e-03  2.59834349e-01\n",
      "  -4.44753468e-01  1.11365750e-01 -3.56059849e-01  2.19481066e-01\n",
      "   3.73312645e-02  3.44302692e-02 -3.37643653e-01  1.38736382e-01\n",
      "  -1.17368437e-01 -1.13239482e-01 -2.46559337e-01  2.98768431e-01\n",
      "  -4.97279823e-01  1.21726856e-01  1.82536379e-01  3.68613809e-01\n",
      "  -1.96129143e-01 -4.84429210e-01 -4.19680059e-01 -1.80999041e-01\n",
      "  -4.45131153e-01  4.62568432e-01 -4.60649058e-02 -1.22595881e-03\n",
      "  -2.47838408e-01  2.99694389e-01  1.00401558e-01  8.47758129e-02\n",
      "   2.37895809e-02  1.00433312e-01  1.78920120e-01  5.98268621e-02\n",
      "   3.37971032e-01  4.08185959e-01  1.75458252e-01  1.00346945e-01\n",
      "   2.74110883e-01  1.43469140e-01  8.51348191e-02 -7.02600479e-01\n",
      "  -2.71533817e-01  3.23619276e-01  2.54149139e-01  1.34182051e-01\n",
      "   5.61752796e-01 -2.82434821e-02 -9.14414078e-02  8.59122053e-02\n",
      "  -2.98417479e-01 -2.84184515e-01 -5.09807348e-01 -3.18277746e-01\n",
      "   4.41565476e-02 -2.61256307e-01  5.47700047e-01 -4.58597392e-02\n",
      "   5.72647452e-01 -6.78532481e-01  1.10785708e-01 -3.02398880e-03\n",
      "  -2.91716963e-01  5.39612547e-02  1.17601752e-01  3.58157873e-01\n",
      "  -8.60925317e-02  6.26337808e-03  5.17154574e-01  6.08485401e-01\n",
      "   1.03495583e-01 -1.08648196e-01 -6.60538554e-01  6.59724474e-01\n",
      "   1.88114285e-01  1.43210977e-01  1.47324771e-01  2.81371295e-01\n",
      "   7.69094229e-02  1.17369726e-01  2.97915876e-01  2.30268046e-01\n",
      "   1.71604902e-01  1.21049598e-01 -2.16117986e-02 -9.64525330e-04\n",
      "  -6.15181088e-01 -8.26158300e-02 -2.12029457e-01 -3.91889483e-01\n",
      "  -1.82199687e-01  8.77223492e-01  1.18587174e-01  1.59507722e-01\n",
      "  -4.83370483e-01  3.08136642e-01 -3.57538983e-02  2.91960299e-01\n",
      "  -4.52306680e-02 -3.48256052e-01 -3.31367105e-01 -7.24332154e-01\n",
      "   2.08200052e-01  9.88329276e-02  3.64101112e-01 -3.18123251e-01\n",
      "   3.99446577e-01  2.58153170e-01 -1.43003585e-02 -7.13140905e-01\n",
      "  -3.50990117e-01  2.12315440e-01 -2.37085909e-01 -4.47625145e-02\n",
      "   5.27961314e-01  3.40690821e-01  6.02710955e-02 -1.66003093e-01\n",
      "   4.10108939e-02  5.94019368e-02  1.29670739e-01 -7.93788612e-01\n",
      "   2.16028407e-01 -7.44947046e-02  3.78400892e-01  1.26462907e-01\n",
      "   5.12006693e-02  1.13012031e-01  2.20191792e-01  1.79421499e-01\n",
      "  -3.31318736e-01 -2.20741510e-01  3.19265783e-01  3.27511311e-01\n",
      "   1.54948026e-01  4.94205534e-01  1.78699628e-01  5.34347832e-01\n",
      "  -5.52434087e-01  3.02778006e-01  8.31518322e-02  3.23088557e-01\n",
      "  -2.06749231e-01 -1.03087761e-01 -1.02265283e-01 -7.04330206e-01\n",
      "  -1.37191936e-01 -2.60547787e-01 -1.14224958e+00 -1.80370897e-01\n",
      "   2.20199019e-01 -1.41152114e-01 -8.28088373e-02 -9.30749699e-02\n",
      "  -2.04510257e-01 -3.72721463e-01 -3.90968710e-01  2.08481476e-01\n",
      "  -3.96171838e-01  8.48994911e-01  8.68489742e-02 -7.68924206e-02\n",
      "   1.39141575e-01 -4.14168745e-01 -1.48437498e-02 -7.04982758e-01\n",
      "  -2.43675262e-01  7.58920144e-03 -1.52744517e-01  3.47108990e-01\n",
      "  -1.94302887e-01 -4.66292769e-01  6.14485443e-01 -2.30853230e-01\n",
      "  -2.17043430e-01 -2.69803610e-02 -1.09481677e-01 -1.34288341e-01\n",
      "  -3.68738949e-01  4.79446203e-02  5.07415652e-01  1.89385965e-01\n",
      "   3.46080661e-02  4.76128459e-02 -1.35833904e-01  2.37795353e-01\n",
      "  -1.01791158e-01 -2.52124250e-01 -3.70401174e-01 -5.60552068e-02\n",
      "  -6.40883744e-01  6.47470355e-01  3.42010081e-01 -3.29600722e-01\n",
      "  -1.79577380e-01  5.19972444e-01  4.53697622e-01 -1.98497683e-01\n",
      "   2.93990523e-01  3.59342903e-01 -3.83828342e-01  6.44177258e-01\n",
      "   3.22076619e-01  1.85261518e-01 -1.11207319e-02 -1.49088711e-01\n",
      "  -4.47093427e-01  2.82546818e-01 -4.59879875e-01 -1.97592676e-01\n",
      "   9.93992209e-01 -1.60148218e-01  2.26001292e-01 -4.04634103e-02\n",
      "   1.36463225e-01  1.25634536e-01 -4.13459480e-01  2.87490517e-01\n",
      "  -5.28652191e-01 -1.27355441e-01 -4.40561235e-01  5.30377030e-01\n",
      "   2.54176736e-01  3.78472090e-01  2.48228744e-01 -3.09045315e-01\n",
      "  -4.55678642e-01 -8.15345645e-01  2.96991467e-02 -1.67958528e-01\n",
      "   1.28957808e-01 -3.01731825e-01  5.00524521e-01 -7.71493018e-02\n",
      "  -2.73690760e-01  1.39008388e-01  1.94298416e-01  2.75801122e-01\n",
      "   7.88674504e-02 -2.96370834e-01 -1.58957228e-01  5.00091434e-01\n",
      "  -5.42872071e-01  2.84679174e-01 -1.27300113e-01  9.97357741e-02\n",
      "  -1.27952859e-01  4.69486788e-02  4.36350018e-01 -5.19688800e-02\n",
      "  -3.93085569e-01 -1.13940939e-01 -7.50876188e-01 -1.11967310e-01\n",
      "   1.70717631e-02 -1.89881742e-01 -5.61969867e-03  3.22115600e-01\n",
      "   5.16073406e-01  9.96997058e-02  2.81379163e-01  4.18815911e-01\n",
      "  -3.90720088e-03  2.89405342e-02 -4.17178154e-01  8.01186860e-01\n",
      "  -4.70567167e-01  4.01086025e-02  1.48395970e-01 -9.07564312e-02\n",
      "  -8.62301230e-01 -3.93869609e-01 -1.96962237e-01 -3.34783196e-01\n",
      "  -3.58570844e-01  3.58618170e-01 -3.11675161e-01  8.89834613e-02\n",
      "  -2.41623729e-01 -5.54282665e-01  1.06037579e-01 -3.38181496e-01\n",
      "  -4.36450630e-01  4.54955518e-01  2.48511359e-01 -1.29650742e-01\n",
      "   4.41708624e-01  5.54474723e-03  9.52985436e-02  5.05488291e-02\n",
      "   1.56273067e-01  5.01515508e-01 -5.19036889e-01  2.88735867e-01\n",
      "   2.98416317e-01 -2.72817433e-01 -1.23898387e-01  6.54119670e-01\n",
      "   3.85896206e-01 -3.52043882e-02 -2.11010501e-01  3.49527448e-01\n",
      "   5.98344326e-01  3.61720592e-01  1.20293334e-01  8.57311413e-02\n",
      "   1.43714145e-01 -2.14050770e-01 -7.71764144e-02 -1.74972266e-01\n",
      "   1.47201587e-02 -2.31570885e-01 -4.33243275e-01 -1.93184704e-01\n",
      "   1.24436900e-01  1.70151025e-01  4.21125561e-01 -4.95096028e-01\n",
      "   1.29932821e-01  3.54227662e-01  1.79302365e-01 -2.14492589e-01\n",
      "   3.24940950e-01  2.22473055e-01  2.74155051e-01 -2.81332076e-01\n",
      "  -1.31100342e-01 -6.39204323e-01  6.57998383e-01  5.13515770e-01\n",
      "  -5.72373033e-01  4.79767859e-01 -2.86821630e-02 -2.66856104e-01]\n",
      " [-2.72035956e-01  4.80246186e-01  5.22958279e-01  2.53585130e-02\n",
      "  -3.37713629e-01 -3.82837176e-01  6.76632583e-01  2.44399812e-02\n",
      "  -2.47440293e-01  3.00061226e-01  1.42444223e-01 -6.02886736e-01\n",
      "  -3.19726050e-01 -2.51986951e-01  1.04954958e-01 -1.34700656e-01\n",
      "   4.49402004e-01 -3.11045438e-01 -3.98145527e-01 -3.15191239e-01\n",
      "  -3.57391030e-01  4.07208912e-02  3.51111181e-02  2.09172368e-01\n",
      "  -9.61992145e-03 -1.97598934e-01  7.95236453e-02  5.84617674e-01\n",
      "   3.23380083e-01 -3.68383557e-01  2.47820690e-01 -3.03901225e-01\n",
      "   3.78505617e-01 -6.03896379e-03  1.36442751e-01  5.01969635e-01\n",
      "   2.37174928e-01  7.46905580e-02 -1.95272490e-01 -3.22611630e-02\n",
      "   2.84747064e-01 -4.40788984e-01  2.05442414e-01  3.62032242e-02\n",
      "  -7.91390333e-03 -1.53565064e-01 -2.25167155e-01  2.17206165e-01\n",
      "   3.89554501e-01  1.97614897e-02 -3.77068408e-02  3.28241736e-02\n",
      "   2.98189018e-02  3.57046932e-01  6.61344945e-01  7.03640997e-01\n",
      "  -2.25585714e-01  5.81988394e-01 -5.33911251e-02 -2.01933965e-01\n",
      "  -3.30973975e-02 -2.77155071e-01 -3.50782782e-01  6.04857087e-01\n",
      "  -9.14099216e-02 -1.80557251e-01 -4.48485613e-01  4.58674669e-01\n",
      "  -6.16280913e-01 -7.16698945e-01 -2.93577224e-01  6.54615909e-02\n",
      "  -3.61289710e-01  3.88383269e-01  1.05009757e-01  1.77237636e-03\n",
      "   1.03037804e-01  2.31511950e-01  1.61026970e-01  3.25016111e-01\n",
      "   2.27006495e-01  3.09594810e-01 -2.34726593e-01 -5.37918806e-01\n",
      "   1.60860300e-01  1.85613081e-01  1.23873949e-02  1.00534044e-01\n",
      "  -1.41519949e-01 -3.50636572e-01 -7.47192860e-01  3.75517964e-01\n",
      "   2.22294971e-01  5.27891368e-02 -3.89240384e-02 -5.59560992e-02\n",
      "   2.72772551e-01 -1.46138236e-01 -5.72501004e-01  2.27755094e+00\n",
      "   4.28440094e-01  3.46546292e-01  2.27076616e-02  2.94447213e-01\n",
      "  -6.69390380e-01  2.02642068e-01 -2.98485547e-01  8.26588869e-02\n",
      "   1.31116942e-01  5.84362149e-02  1.07468121e-01 -3.05568516e-01\n",
      "  -3.03962320e-01  2.66903043e-01  5.54560006e-01  4.99498881e-02\n",
      "   1.26282990e-01  2.82514066e-01  6.95689976e-01 -3.20451766e-01\n",
      "  -1.56619847e-02 -2.26660684e-01 -1.53766930e-01 -1.71899989e-01\n",
      "  -7.92273581e-01 -3.90776157e-01  3.81509095e-01  3.36297154e-01\n",
      "  -6.76159337e-02  3.63952190e-01 -8.22412595e-02  8.47401083e-01\n",
      "   1.39095411e-01  3.85762930e-01 -2.71586716e-01 -1.46336272e-01\n",
      "  -3.13645363e-01 -2.58075684e-01  6.39533997e-03 -7.99123049e-02\n",
      "  -1.37505591e-01  2.50129160e-02 -6.26931712e-02 -3.34095240e-01\n",
      "   1.79184392e-01  7.59158731e-02 -2.07338139e-01  7.50194043e-02\n",
      "  -5.70459217e-02 -6.19871616e-01 -3.02272346e-02  4.45120186e-01\n",
      "   6.91011667e-01  4.29543406e-02  2.14444220e-01 -7.16160536e-02\n",
      "   1.47097111e+00  2.67890334e-01  2.19800428e-01 -3.22620928e-01\n",
      "  -2.99464673e-01 -9.18548703e-02  3.79160643e-01 -2.03392312e-01\n",
      "  -3.90304178e-01 -4.80601430e-01 -5.90293594e-02 -1.63166523e-01\n",
      "  -2.66269445e-01  2.07267225e-01 -4.36083704e-01 -1.69546783e-01\n",
      "  -2.42765639e-02  1.16114862e-01  4.69129562e-01  1.33813673e-03\n",
      "   9.82785404e-01  4.52081680e-01 -3.90195727e-01  1.71861097e-01\n",
      "  -1.02612782e+00 -2.54497468e-01 -1.14207424e-01  2.14765310e-01\n",
      "  -2.87657112e-01  3.19928139e-01 -1.29902363e-02  7.35848173e-02\n",
      "  -2.61199862e-01  6.56774342e-02 -2.84667939e-01 -2.17229441e-01\n",
      "  -1.32972002e-03 -4.10240740e-02  2.59338588e-01  1.26776561e-01\n",
      "   3.56498033e-01 -6.32261872e-01  3.11915781e-02 -2.95002818e-01\n",
      "  -1.59677342e-01  3.51140499e-01  4.22552496e-01 -1.34433404e-01\n",
      "   5.04367769e-01 -2.02825293e-01  2.28410527e-01  6.94766566e-02\n",
      "   4.88513619e-01  3.33689600e-01 -3.34743589e-01  3.92661430e-02\n",
      "   2.63535231e-01 -2.17336118e-01 -3.91492248e-03 -5.23485243e-01\n",
      "  -1.92245841e-01  5.92319191e-01 -3.65772575e-01  3.63504410e-01\n",
      "   2.92739719e-01  3.05135876e-01 -1.43278256e-01 -5.73841751e-01\n",
      "   7.62536764e-01 -3.60290736e-01 -8.19720507e-01 -2.50806510e-01\n",
      "   1.14397883e-01  1.28143029e-02  4.46315050e-01  8.14000607e-01\n",
      "  -6.28228962e-01 -5.81974769e-03  2.96194553e-02  4.38616842e-01\n",
      "   3.19075435e-01  5.04014790e-02  8.41936395e-02  1.65057287e-01\n",
      "   4.34430152e-01  6.44777343e-02 -3.30587417e-01  4.39352185e-01\n",
      "  -4.08311971e-02  6.35768592e-01 -1.02773619e+00  2.88284302e-01\n",
      "  -3.07470471e-01  9.29096639e-01 -2.74906177e-02  5.10686398e-01\n",
      "  -7.78814614e-01  1.64080366e-01 -2.13652313e-01  1.14582948e-01\n",
      "  -4.21274930e-01 -1.42584279e-01 -1.03690185e-01  6.62710130e-01\n",
      "   6.65728673e-02 -1.00044632e+00  1.75239682e-01 -2.89260954e-01\n",
      "   1.58789203e-01 -4.71120141e-02  4.30421121e-02  8.31543446e-01\n",
      "  -2.36652419e-01 -1.96913525e-01 -6.65292740e-01  3.54061872e-02\n",
      "   5.77163696e-03 -1.26268879e-01 -2.69444168e-01 -4.27042812e-01\n",
      "   3.20947081e-01  7.31751174e-02 -1.76236734e-01  2.44167641e-01\n",
      "  -7.04977751e-01 -2.48936966e-01  2.92549700e-01  3.10341030e-01\n",
      "  -4.94337469e-01 -5.89176007e-02  3.18473786e-01  4.37899709e-01\n",
      "  -6.30205393e-01 -2.93620735e-01  2.77370866e-02  1.35789678e-01\n",
      "  -8.16850886e-02 -5.97189844e-01  2.70564761e-02 -3.16395313e-01\n",
      "  -3.84105772e-01 -2.11768016e-01  7.41619021e-02  7.69609585e-02\n",
      "  -1.76628813e-01 -3.46496940e-01 -2.94003576e-01 -2.66849041e-01\n",
      "   1.56277969e-01  2.12243199e-01 -3.17986250e-01 -4.01036531e-01\n",
      "   4.07497257e-01 -1.36839285e-01 -9.31071416e-02  3.28242838e-01\n",
      "   2.70170718e-01 -5.99208586e-02  4.54097092e-02  4.56303023e-02\n",
      "  -3.59477609e-01  4.62572575e-01  3.84293422e-02 -2.62430459e-01\n",
      "   2.52505485e-02 -4.05428326e-03 -1.09481037e-01 -2.07377419e-01\n",
      "  -6.41565695e-02 -3.16916443e-02 -4.97216791e-01 -8.51002693e-01\n",
      "  -2.58961737e-01 -1.61078870e-01  4.32848483e-02 -1.73324123e-01\n",
      "  -3.51440459e-01  3.62244248e-03  3.10470611e-01  2.47265711e-01\n",
      "  -4.11918491e-01 -2.14883968e-01 -4.47546870e-01 -3.08705449e-01\n",
      "  -1.94315866e-01 -1.72657534e-01  3.10002523e-03  3.09318542e-01\n",
      "   2.09879592e-01  1.47703066e-01  1.39794752e-01  1.96649041e-02\n",
      "   2.36396432e-01 -3.46991330e-01  2.34494463e-01  1.15002501e+00\n",
      "  -3.38634402e-01 -2.57399529e-01  3.36977750e-01  6.57274341e-03\n",
      "  -6.12498559e-02  9.08255503e-02 -2.07341015e-01 -9.81357396e-01\n",
      "   3.92255753e-01  1.04293793e-01 -9.95102450e-02 -2.98545752e-02\n",
      "  -9.80801806e-02  3.67471695e-01  4.70653534e-01 -1.48090914e-01\n",
      "  -5.58260977e-01 -3.44926834e-01 -2.97403425e-01 -1.08802982e-01\n",
      "   4.53706175e-01  1.02569640e-01 -4.93455864e-03 -1.63566962e-01\n",
      "  -1.04695775e-01  8.39190111e-02 -8.82846117e-03  3.82537931e-01\n",
      "   5.00081599e-01  2.08693743e-02  3.39442082e-02  2.77020663e-01]]\n",
      "Embedding shape: (384,)\n",
      "\n",
      "\n"
     ]
    }
   ],
   "source": [
    "from sentence_transformers import SentenceTransformer\n",
    "embed_model = SentenceTransformer('paraphrase-MiniLM-L6-v2')\n",
    "\n",
    "#targeted sentence that want to encode\n",
    "test_sen = ['I am learning how to encode.','hello']\n",
    "embeddings = embed_model.encode(test_sen)\n",
    "test_sen_dict = dict(zip(test_sen, embeddings))\n",
    "\n",
    "for sentences, embedding in test_sen_dict.items():\n",
    "    print(f\"Sentences: {sentences}\")\n",
    "    print(f\"Embedding: {embeddings}\")\n",
    "    print(f\"Embedding shape: {embeddings[0].shape}\")\n",
    "    print(\"\\n\")\n",
    "\n"
   ]
  },
  {
   "cell_type": "code",
   "execution_count": 25,
   "id": "c170d9b6",
   "metadata": {},
   "outputs": [
    {
     "data": {
      "text/plain": [
       "(384,)"
      ]
     },
     "execution_count": 25,
     "metadata": {},
     "output_type": "execute_result"
    }
   ],
   "source": [
    "embeddings[0].shape"
   ]
  },
  {
   "cell_type": "code",
   "execution_count": 26,
   "id": "02c303a0",
   "metadata": {},
   "outputs": [
    {
     "data": {
      "text/html": [
       "<div>\n",
       "<style scoped>\n",
       "    .dataframe tbody tr th:only-of-type {\n",
       "        vertical-align: middle;\n",
       "    }\n",
       "\n",
       "    .dataframe tbody tr th {\n",
       "        vertical-align: top;\n",
       "    }\n",
       "\n",
       "    .dataframe thead th {\n",
       "        text-align: right;\n",
       "    }\n",
       "</style>\n",
       "<table border=\"1\" class=\"dataframe\">\n",
       "  <thead>\n",
       "    <tr style=\"text-align: right;\">\n",
       "      <th></th>\n",
       "      <th>page_number</th>\n",
       "      <th>chunk_char_count</th>\n",
       "      <th>chunk_word_count</th>\n",
       "      <th>chunk_token_count</th>\n",
       "    </tr>\n",
       "  </thead>\n",
       "  <tbody>\n",
       "    <tr>\n",
       "      <th>count</th>\n",
       "      <td>1804.00</td>\n",
       "      <td>1804.00</td>\n",
       "      <td>1804.00</td>\n",
       "      <td>1804.00</td>\n",
       "    </tr>\n",
       "    <tr>\n",
       "      <th>mean</th>\n",
       "      <td>584.61</td>\n",
       "      <td>1354.28</td>\n",
       "      <td>209.73</td>\n",
       "      <td>338.57</td>\n",
       "    </tr>\n",
       "    <tr>\n",
       "      <th>std</th>\n",
       "      <td>347.87</td>\n",
       "      <td>470.36</td>\n",
       "      <td>71.68</td>\n",
       "      <td>117.59</td>\n",
       "    </tr>\n",
       "    <tr>\n",
       "      <th>min</th>\n",
       "      <td>-39.00</td>\n",
       "      <td>122.00</td>\n",
       "      <td>16.00</td>\n",
       "      <td>30.50</td>\n",
       "    </tr>\n",
       "    <tr>\n",
       "      <th>25%</th>\n",
       "      <td>281.00</td>\n",
       "      <td>1062.00</td>\n",
       "      <td>171.00</td>\n",
       "      <td>265.50</td>\n",
       "    </tr>\n",
       "    <tr>\n",
       "      <th>50%</th>\n",
       "      <td>588.50</td>\n",
       "      <td>1462.00</td>\n",
       "      <td>221.00</td>\n",
       "      <td>365.50</td>\n",
       "    </tr>\n",
       "    <tr>\n",
       "      <th>75%</th>\n",
       "      <td>890.25</td>\n",
       "      <td>1700.00</td>\n",
       "      <td>260.00</td>\n",
       "      <td>425.00</td>\n",
       "    </tr>\n",
       "    <tr>\n",
       "      <th>max</th>\n",
       "      <td>1166.00</td>\n",
       "      <td>2290.00</td>\n",
       "      <td>391.00</td>\n",
       "      <td>572.50</td>\n",
       "    </tr>\n",
       "  </tbody>\n",
       "</table>\n",
       "</div>"
      ],
      "text/plain": [
       "       page_number  chunk_char_count  chunk_word_count  chunk_token_count\n",
       "count      1804.00           1804.00           1804.00            1804.00\n",
       "mean        584.61           1354.28            209.73             338.57\n",
       "std         347.87            470.36             71.68             117.59\n",
       "min         -39.00            122.00             16.00              30.50\n",
       "25%         281.00           1062.00            171.00             265.50\n",
       "50%         588.50           1462.00            221.00             365.50\n",
       "75%         890.25           1700.00            260.00             425.00\n",
       "max        1166.00           2290.00            391.00             572.50"
      ]
     },
     "execution_count": 26,
     "metadata": {},
     "output_type": "execute_result"
    }
   ],
   "source": [
    "p = pd.DataFrame(data = pages_chunks_over_min_tokens)\n",
    "p.describe().round(2)"
   ]
  },
  {
   "cell_type": "code",
   "execution_count": 34,
   "id": "56b891fc",
   "metadata": {},
   "outputs": [],
   "source": [
    "import torch \n",
    "\n",
    "devices = \"cuda\" if torch.cuda.is_available() else \"cpu\""
   ]
  },
  {
   "cell_type": "code",
   "execution_count": 35,
   "id": "ffd6244d",
   "metadata": {},
   "outputs": [
    {
     "name": "stdout",
     "output_type": "stream",
     "text": [
      "CPU times: total: 9min 14s\n",
      "Wall time: 3min 24s\n"
     ]
    }
   ],
   "source": [
    "%%time\n",
    "embed_model.to(devices)\n",
    "\n",
    "for item in pages_chunks_over_min_tokens:\n",
    "    \n",
    "    item['embed_item'] = embed_model.encode(item['joined_sentence_chunk'])\n",
    "    \n",
    "    "
   ]
  },
  {
   "cell_type": "code",
   "execution_count": 36,
   "id": "e38f6027",
   "metadata": {},
   "outputs": [
    {
     "name": "stdout",
     "output_type": "stream",
     "text": [
      "CPU times: total: 0 ns\n",
      "Wall time: 1e+03 µs\n"
     ]
    },
    {
     "data": {
      "text/plain": [
       "\"[['Protein  Necessary for tissue formationcell reparationand  hormone and enzyme production.''It is essential for  building strong muscles and a healthy immune system.'' Carbohydrates  Provide a ready source of energy for the body and  provide structural constituents for the formation of  cells.'' Fat  Provides stored energy for the bodyfunctions as  structural components of cells and also as signaling  molecules for proper cellular communication.''It  provides insulation to vital organs and works to  maintain body temperature.'' Vitamins  Regulate body processes and promote normal  body-system functions.'' Minerals  Regulate body processesare necessary for proper  cellular functionand comprise body tissue.'' Water  Transports essential nutrients to all body parts transports waste products for disposaland aids with  body temperature maintenance.'' \\\\xa0 Learning Activities  Technology Note: The second edition of the Human  Nutrition Open Educational Resource (OER) textbook  features interactive learning activities.''\\\\xa0 These activities are  available in the web-based textbook and not available in the  downloadable versions (EPUBDigital PDFPrint_PDFor  Open Document).'][' Learning activities may be used across various mobile  deviceshoweverfor the best user experience it is strongly  12  |  Introduction']]\""
      ]
     },
     "execution_count": 36,
     "metadata": {},
     "output_type": "execute_result"
    }
   ],
   "source": [
    "%%time\n",
    "text_chunks = [item['joined_sentence_chunk'] for item in pages_chunks_over_min_tokens ]\n",
    "text_chunks[52]"
   ]
  },
  {
   "cell_type": "code",
   "execution_count": 37,
   "id": "10e3ba1f",
   "metadata": {},
   "outputs": [
    {
     "name": "stdout",
     "output_type": "stream",
     "text": [
      "CPU times: total: 9min 13s\n",
      "Wall time: 3min 19s\n"
     ]
    }
   ],
   "source": [
    "%%time \n",
    "#now embedding in batches \n",
    "\n",
    "embed_model.to(devices)\n",
    "\n",
    "for item in pages_chunks_over_min_tokens:\n",
    "    item['text_chunks_embedding'] = embed_model.encode(item['joined_sentence_chunk'], \n",
    "                                                      batch_size= 32)\n",
    "                                                      #convert_to_tensor=True)"
   ]
  },
  {
   "cell_type": "code",
   "execution_count": 38,
   "id": "03a95f6e",
   "metadata": {},
   "outputs": [
    {
     "name": "stdout",
     "output_type": "stream",
     "text": [
      "CPU times: total: 0 ns\n",
      "Wall time: 0 ns\n"
     ]
    },
    {
     "data": {
      "text/plain": [
       "\"[['Protein  Necessary for tissue formationcell reparationand  hormone and enzyme production.''It is essential for  building strong muscles and a healthy immune system.'' Carbohydrates  Provide a ready source of energy for the body and  provide structural constituents for the formation of  cells.'' Fat  Provides stored energy for the bodyfunctions as  structural components of cells and also as signaling  molecules for proper cellular communication.''It  provides insulation to vital organs and works to  maintain body temperature.'' Vitamins  Regulate body processes and promote normal  body-system functions.'' Minerals  Regulate body processesare necessary for proper  cellular functionand comprise body tissue.'' Water  Transports essential nutrients to all body parts transports waste products for disposaland aids with  body temperature maintenance.'' \\\\xa0 Learning Activities  Technology Note: The second edition of the Human  Nutrition Open Educational Resource (OER) textbook  features interactive learning activities.''\\\\xa0 These activities are  available in the web-based textbook and not available in the  downloadable versions (EPUBDigital PDFPrint_PDFor  Open Document).'][' Learning activities may be used across various mobile  deviceshoweverfor the best user experience it is strongly  12  |  Introduction']]\""
      ]
     },
     "execution_count": 38,
     "metadata": {},
     "output_type": "execute_result"
    }
   ],
   "source": [
    "%%time\n",
    "\n",
    "text_chunk_embed = [item['joined_sentence_chunk'] for item in pages_chunks_over_min_tokens]\n",
    "text_chunk_embed[52]"
   ]
  },
  {
   "cell_type": "code",
   "execution_count": 42,
   "id": "cf775942",
   "metadata": {},
   "outputs": [],
   "source": [
    "#storing in df\n",
    "texts_chunks_and_embedding_df = pd.DataFrame(data= pages_chunks_over_min_tokens)\n",
    "pages_chunk_over_embed_df_path = r\"C:\\Users\\Amogh\\python_llms\\texts_chunks_and_embedding_df.csv\"\n",
    "texts_chunks_and_embedding_df.to_csv(pages_chunk_over_embed_df_path, index= False)"
   ]
  },
  {
   "cell_type": "code",
   "execution_count": 43,
   "id": "ed621aad",
   "metadata": {},
   "outputs": [
    {
     "data": {
      "text/html": [
       "<div>\n",
       "<style scoped>\n",
       "    .dataframe tbody tr th:only-of-type {\n",
       "        vertical-align: middle;\n",
       "    }\n",
       "\n",
       "    .dataframe tbody tr th {\n",
       "        vertical-align: top;\n",
       "    }\n",
       "\n",
       "    .dataframe thead th {\n",
       "        text-align: right;\n",
       "    }\n",
       "</style>\n",
       "<table border=\"1\" class=\"dataframe\">\n",
       "  <thead>\n",
       "    <tr style=\"text-align: right;\">\n",
       "      <th></th>\n",
       "      <th>page_number</th>\n",
       "      <th>joined_sentence_chunk</th>\n",
       "      <th>chunk_char_count</th>\n",
       "      <th>chunk_word_count</th>\n",
       "      <th>chunk_token_count</th>\n",
       "      <th>embed_item</th>\n",
       "      <th>text_chunks_embedding</th>\n",
       "    </tr>\n",
       "  </thead>\n",
       "  <tbody>\n",
       "    <tr>\n",
       "      <th>0</th>\n",
       "      <td>-39</td>\n",
       "      <td>[['Human Nutrition: 2020  Edition  UNIVERSITY ...</td>\n",
       "      <td>306</td>\n",
       "      <td>44</td>\n",
       "      <td>76.50</td>\n",
       "      <td>[-0.34628856, 0.11873175, 0.19786371, 0.135284...</td>\n",
       "      <td>[-0.34628856, 0.11873175, 0.19786371, 0.135284...</td>\n",
       "    </tr>\n",
       "    <tr>\n",
       "      <th>1</th>\n",
       "      <td>-38</td>\n",
       "      <td>[['Human Nutrition: 2020 Edition by University...</td>\n",
       "      <td>216</td>\n",
       "      <td>31</td>\n",
       "      <td>54.00</td>\n",
       "      <td>[-0.2135142, 0.15911552, 0.016583482, 0.013773...</td>\n",
       "      <td>[-0.2135142, 0.15911552, 0.016583482, 0.013773...</td>\n",
       "    </tr>\n",
       "    <tr>\n",
       "      <th>2</th>\n",
       "      <td>-37</td>\n",
       "      <td>[['Contents  Preface  University of Hawai‘i at...</td>\n",
       "      <td>810</td>\n",
       "      <td>144</td>\n",
       "      <td>202.50</td>\n",
       "      <td>[-0.45600495, 0.50179064, 0.44888175, 0.094657...</td>\n",
       "      <td>[-0.45600495, 0.50179064, 0.44888175, 0.094657...</td>\n",
       "    </tr>\n",
       "    <tr>\n",
       "      <th>3</th>\n",
       "      <td>-36</td>\n",
       "      <td>[['Lifestyles and Nutrition  University of Haw...</td>\n",
       "      <td>987</td>\n",
       "      <td>174</td>\n",
       "      <td>246.75</td>\n",
       "      <td>[-0.27359527, 0.46020588, 0.55021524, 0.259538...</td>\n",
       "      <td>[-0.27359527, 0.46020588, 0.55021524, 0.259538...</td>\n",
       "    </tr>\n",
       "    <tr>\n",
       "      <th>4</th>\n",
       "      <td>-35</td>\n",
       "      <td>[['The Cardiovascular System  University of Ha...</td>\n",
       "      <td>1043</td>\n",
       "      <td>191</td>\n",
       "      <td>260.75</td>\n",
       "      <td>[-0.31235683, 0.42378852, 0.520691, 0.26785356...</td>\n",
       "      <td>[-0.31235683, 0.42378852, 0.520691, 0.26785356...</td>\n",
       "    </tr>\n",
       "  </tbody>\n",
       "</table>\n",
       "</div>"
      ],
      "text/plain": [
       "   page_number                              joined_sentence_chunk  \\\n",
       "0          -39  [['Human Nutrition: 2020  Edition  UNIVERSITY ...   \n",
       "1          -38  [['Human Nutrition: 2020 Edition by University...   \n",
       "2          -37  [['Contents  Preface  University of Hawai‘i at...   \n",
       "3          -36  [['Lifestyles and Nutrition  University of Haw...   \n",
       "4          -35  [['The Cardiovascular System  University of Ha...   \n",
       "\n",
       "   chunk_char_count  chunk_word_count  chunk_token_count  \\\n",
       "0               306                44              76.50   \n",
       "1               216                31              54.00   \n",
       "2               810               144             202.50   \n",
       "3               987               174             246.75   \n",
       "4              1043               191             260.75   \n",
       "\n",
       "                                          embed_item  \\\n",
       "0  [-0.34628856, 0.11873175, 0.19786371, 0.135284...   \n",
       "1  [-0.2135142, 0.15911552, 0.016583482, 0.013773...   \n",
       "2  [-0.45600495, 0.50179064, 0.44888175, 0.094657...   \n",
       "3  [-0.27359527, 0.46020588, 0.55021524, 0.259538...   \n",
       "4  [-0.31235683, 0.42378852, 0.520691, 0.26785356...   \n",
       "\n",
       "                               text_chunks_embedding  \n",
       "0  [-0.34628856, 0.11873175, 0.19786371, 0.135284...  \n",
       "1  [-0.2135142, 0.15911552, 0.016583482, 0.013773...  \n",
       "2  [-0.45600495, 0.50179064, 0.44888175, 0.094657...  \n",
       "3  [-0.27359527, 0.46020588, 0.55021524, 0.259538...  \n",
       "4  [-0.31235683, 0.42378852, 0.520691, 0.26785356...  "
      ]
     },
     "execution_count": 43,
     "metadata": {},
     "output_type": "execute_result"
    }
   ],
   "source": [
    "pages_chunk_over_embed_df_load = pd.read_csv(\"texts_chunks_and_embedding_df.csv\")\n",
    "texts_chunks_and_embedding_df.head()"
   ]
  },
  {
   "cell_type": "code",
   "execution_count": 44,
   "id": "1d63de04",
   "metadata": {},
   "outputs": [],
   "source": [
    "texts_chunks_and_embedding_df = texts_chunks_and_embedding_df.drop('embed_item', axis=1)"
   ]
  },
  {
   "cell_type": "code",
   "execution_count": 45,
   "id": "700d9ec8",
   "metadata": {},
   "outputs": [
    {
     "data": {
      "text/html": [
       "<div>\n",
       "<style scoped>\n",
       "    .dataframe tbody tr th:only-of-type {\n",
       "        vertical-align: middle;\n",
       "    }\n",
       "\n",
       "    .dataframe tbody tr th {\n",
       "        vertical-align: top;\n",
       "    }\n",
       "\n",
       "    .dataframe thead th {\n",
       "        text-align: right;\n",
       "    }\n",
       "</style>\n",
       "<table border=\"1\" class=\"dataframe\">\n",
       "  <thead>\n",
       "    <tr style=\"text-align: right;\">\n",
       "      <th></th>\n",
       "      <th>page_number</th>\n",
       "      <th>joined_sentence_chunk</th>\n",
       "      <th>chunk_char_count</th>\n",
       "      <th>chunk_word_count</th>\n",
       "      <th>chunk_token_count</th>\n",
       "      <th>text_chunks_embedding</th>\n",
       "    </tr>\n",
       "  </thead>\n",
       "  <tbody>\n",
       "    <tr>\n",
       "      <th>0</th>\n",
       "      <td>-39</td>\n",
       "      <td>[['Human Nutrition: 2020  Edition  UNIVERSITY ...</td>\n",
       "      <td>306</td>\n",
       "      <td>44</td>\n",
       "      <td>76.50</td>\n",
       "      <td>[-0.346288562, 0.118731752, 0.197863713, 0.135...</td>\n",
       "    </tr>\n",
       "    <tr>\n",
       "      <th>1</th>\n",
       "      <td>-38</td>\n",
       "      <td>[['Human Nutrition: 2020 Edition by University...</td>\n",
       "      <td>216</td>\n",
       "      <td>31</td>\n",
       "      <td>54.00</td>\n",
       "      <td>[-0.213514194, 0.159115523, 0.0165834818, 0.01...</td>\n",
       "    </tr>\n",
       "    <tr>\n",
       "      <th>2</th>\n",
       "      <td>-37</td>\n",
       "      <td>[['Contents  Preface  University of Hawai‘i at...</td>\n",
       "      <td>810</td>\n",
       "      <td>144</td>\n",
       "      <td>202.50</td>\n",
       "      <td>[-0.45600495, 0.50179064, 0.44888175, 0.094657...</td>\n",
       "    </tr>\n",
       "    <tr>\n",
       "      <th>3</th>\n",
       "      <td>-36</td>\n",
       "      <td>[['Lifestyles and Nutrition  University of Haw...</td>\n",
       "      <td>987</td>\n",
       "      <td>174</td>\n",
       "      <td>246.75</td>\n",
       "      <td>[-0.273595273, 0.460205883, 0.550215244, 0.259...</td>\n",
       "    </tr>\n",
       "    <tr>\n",
       "      <th>4</th>\n",
       "      <td>-35</td>\n",
       "      <td>[['The Cardiovascular System  University of Ha...</td>\n",
       "      <td>1043</td>\n",
       "      <td>191</td>\n",
       "      <td>260.75</td>\n",
       "      <td>[-0.31235683, 0.42378852, 0.520691, 0.26785356...</td>\n",
       "    </tr>\n",
       "    <tr>\n",
       "      <th>...</th>\n",
       "      <td>...</td>\n",
       "      <td>...</td>\n",
       "      <td>...</td>\n",
       "      <td>...</td>\n",
       "      <td>...</td>\n",
       "      <td>...</td>\n",
       "    </tr>\n",
       "    <tr>\n",
       "      <th>1794</th>\n",
       "      <td>1161</td>\n",
       "      <td>[['Mariana Ruiz / Public Domain  22.''Exercise...</td>\n",
       "      <td>1654</td>\n",
       "      <td>233</td>\n",
       "      <td>413.50</td>\n",
       "      <td>[-0.263400853, -0.0725437179, -0.105934493, 0....</td>\n",
       "    </tr>\n",
       "    <tr>\n",
       "      <th>1795</th>\n",
       "      <td>1161</td>\n",
       "      <td>[['Mariana Ruiz / Public Domain  22.''Exercise...</td>\n",
       "      <td>1654</td>\n",
       "      <td>233</td>\n",
       "      <td>413.50</td>\n",
       "      <td>[-0.263400853, -0.0725437179, -0.105934493, 0....</td>\n",
       "    </tr>\n",
       "    <tr>\n",
       "      <th>1796</th>\n",
       "      <td>1162</td>\n",
       "      <td>[['39.''Exercise 10.2 &amp; 11.3 reused “Egg Oval ...</td>\n",
       "      <td>1749</td>\n",
       "      <td>235</td>\n",
       "      <td>437.25</td>\n",
       "      <td>[-0.138966113, 0.144967526, -0.00548877614, -0...</td>\n",
       "    </tr>\n",
       "    <tr>\n",
       "      <th>1797</th>\n",
       "      <td>1162</td>\n",
       "      <td>[['39.''Exercise 10.2 &amp; 11.3 reused “Egg Oval ...</td>\n",
       "      <td>1749</td>\n",
       "      <td>235</td>\n",
       "      <td>437.25</td>\n",
       "      <td>[-0.138966113, 0.144967526, -0.00548877614, -0...</td>\n",
       "    </tr>\n",
       "    <tr>\n",
       "      <th>1798</th>\n",
       "      <td>1163</td>\n",
       "      <td>[['Images\\xa0/ Pixabay License; “Pumpkin Carto...</td>\n",
       "      <td>1646</td>\n",
       "      <td>240</td>\n",
       "      <td>411.50</td>\n",
       "      <td>[-0.28395888, 0.00060032, -0.04950243, -0.2431...</td>\n",
       "    </tr>\n",
       "  </tbody>\n",
       "</table>\n",
       "<p>1799 rows × 6 columns</p>\n",
       "</div>"
      ],
      "text/plain": [
       "      page_number                              joined_sentence_chunk  \\\n",
       "0             -39  [['Human Nutrition: 2020  Edition  UNIVERSITY ...   \n",
       "1             -38  [['Human Nutrition: 2020 Edition by University...   \n",
       "2             -37  [['Contents  Preface  University of Hawai‘i at...   \n",
       "3             -36  [['Lifestyles and Nutrition  University of Haw...   \n",
       "4             -35  [['The Cardiovascular System  University of Ha...   \n",
       "...           ...                                                ...   \n",
       "1794         1161  [['Mariana Ruiz / Public Domain  22.''Exercise...   \n",
       "1795         1161  [['Mariana Ruiz / Public Domain  22.''Exercise...   \n",
       "1796         1162  [['39.''Exercise 10.2 & 11.3 reused “Egg Oval ...   \n",
       "1797         1162  [['39.''Exercise 10.2 & 11.3 reused “Egg Oval ...   \n",
       "1798         1163  [['Images\\xa0/ Pixabay License; “Pumpkin Carto...   \n",
       "\n",
       "      chunk_char_count  chunk_word_count  chunk_token_count  \\\n",
       "0                  306                44              76.50   \n",
       "1                  216                31              54.00   \n",
       "2                  810               144             202.50   \n",
       "3                  987               174             246.75   \n",
       "4                 1043               191             260.75   \n",
       "...                ...               ...                ...   \n",
       "1794              1654               233             413.50   \n",
       "1795              1654               233             413.50   \n",
       "1796              1749               235             437.25   \n",
       "1797              1749               235             437.25   \n",
       "1798              1646               240             411.50   \n",
       "\n",
       "                                  text_chunks_embedding  \n",
       "0     [-0.346288562, 0.118731752, 0.197863713, 0.135...  \n",
       "1     [-0.213514194, 0.159115523, 0.0165834818, 0.01...  \n",
       "2     [-0.45600495, 0.50179064, 0.44888175, 0.094657...  \n",
       "3     [-0.273595273, 0.460205883, 0.550215244, 0.259...  \n",
       "4     [-0.31235683, 0.42378852, 0.520691, 0.26785356...  \n",
       "...                                                 ...  \n",
       "1794  [-0.263400853, -0.0725437179, -0.105934493, 0....  \n",
       "1795  [-0.263400853, -0.0725437179, -0.105934493, 0....  \n",
       "1796  [-0.138966113, 0.144967526, -0.00548877614, -0...  \n",
       "1797  [-0.138966113, 0.144967526, -0.00548877614, -0...  \n",
       "1798  [-0.28395888, 0.00060032, -0.04950243, -0.2431...  \n",
       "\n",
       "[1799 rows x 6 columns]"
      ]
     },
     "execution_count": 45,
     "metadata": {},
     "output_type": "execute_result"
    }
   ],
   "source": [
    "import torch \n",
    "import numpy as np\n",
    "\n",
    "texts_chunks_and_embedding_df = pd.read_csv('texts_chunks_and_embedding_df.csv')\n",
    "\n",
    "#converting into dictionary\n",
    "pages_and_chunks = texts_chunks_and_embedding_df.to_dict(orient=\"records\")\n",
    "\n",
    "#convert the embeddning col into numpy array\n",
    "texts_chunks_and_embedding_df['text_chunks_embedding'] = texts_chunks_and_embedding_df['text_chunks_embedding'].apply(lambda x: np.fromstring(x.strip('[]'), sep=' '))\n",
    "\n",
    "#now converting numpy array to tensors\n",
    "text_embedding = torch.tensor(np.stack(texts_chunks_and_embedding_df['text_chunks_embedding'].tolist(), axis= 0)).to(devices)\n",
    "\n",
    "\n",
    "texts_chunks_and_embedding_df = texts_chunks_and_embedding_df.drop('embed_item', axis=1)\n",
    "texts_chunks_and_embedding_df.head(-5)"
   ]
  },
  {
   "cell_type": "code",
   "execution_count": 46,
   "id": "469ac962",
   "metadata": {},
   "outputs": [
    {
     "data": {
      "text/plain": [
       "0       [-0.346288562, 0.118731752, 0.197863713, 0.135...\n",
       "1       [-0.213514194, 0.159115523, 0.0165834818, 0.01...\n",
       "2       [-0.45600495, 0.50179064, 0.44888175, 0.094657...\n",
       "3       [-0.273595273, 0.460205883, 0.550215244, 0.259...\n",
       "4       [-0.31235683, 0.42378852, 0.520691, 0.26785356...\n",
       "                              ...                        \n",
       "1799    [-0.26270527, -0.12755354, -0.12944686, 0.0650...\n",
       "1800    [-0.26270527, -0.12755354, -0.12944686, 0.0650...\n",
       "1801    [-0.24874213, -0.10121711, -0.01718845, -0.232...\n",
       "1802    [-0.24874213, -0.10121711, -0.01718845, -0.232...\n",
       "1803    [-0.496175975, -0.0780536681, -0.28962481, 0.0...\n",
       "Name: text_chunks_embedding, Length: 1804, dtype: object"
      ]
     },
     "execution_count": 46,
     "metadata": {},
     "output_type": "execute_result"
    }
   ],
   "source": [
    "texts_chunks_and_embedding_df['text_chunks_embedding']"
   ]
  },
  {
   "cell_type": "code",
   "execution_count": 47,
   "id": "36226225",
   "metadata": {},
   "outputs": [
    {
     "data": {
      "text/plain": [
       "torch.Size([384])"
      ]
     },
     "execution_count": 47,
     "metadata": {},
     "output_type": "execute_result"
    }
   ],
   "source": [
    "text_em = np.stack(texts_chunks_and_embedding_df['text_chunks_embedding'].tolist(), axis= 0)\n",
    "text_embedding[0].shape"
   ]
  },
  {
   "cell_type": "code",
   "execution_count": 48,
   "id": "10286307",
   "metadata": {},
   "outputs": [
    {
     "data": {
      "text/plain": [
       "numpy.ndarray"
      ]
     },
     "execution_count": 48,
     "metadata": {},
     "output_type": "execute_result"
    }
   ],
   "source": [
    "tensors_embedding  = texts_chunks_and_embedding_df['text_chunks_embedding']\n",
    "type(tensors_embedding[0])"
   ]
  },
  {
   "cell_type": "code",
   "execution_count": 49,
   "id": "80e9b86b",
   "metadata": {},
   "outputs": [],
   "source": [
    "from sentence_transformers import util , SentenceTransformer\n",
    "\n",
    "embedding_model = SentenceTransformer(model_name_or_path='paraphrase-MiniLM-L6-v2',\n",
    "                                     device= devices)\n",
    "\n",
    "#embedding model is ready"
   ]
  },
  {
   "cell_type": "markdown",
   "id": "21da33b6",
   "metadata": {},
   "source": [
    "Semantic Search"
   ]
  },
  {
   "cell_type": "code",
   "execution_count": 51,
   "id": "245fa262",
   "metadata": {},
   "outputs": [
    {
     "name": "stdout",
     "output_type": "stream",
     "text": [
      "Query: vitamins\n",
      "[INFO] Time taken to get scores on 1804 embeddings is : 0.03724 seconds\n"
     ]
    },
    {
     "data": {
      "text/plain": [
       "torch.return_types.topk(\n",
       "values=tensor([0.0183, 0.0183, 0.0173, 0.0173, 0.0169]),\n",
       "indices=tensor([ 822,  823, 1406, 1405,   50]))"
      ]
     },
     "execution_count": 51,
     "metadata": {},
     "output_type": "execute_result"
    }
   ],
   "source": [
    "#1. Define the query\n",
    "query = \"vitamins\"\n",
    "print(f'Query: {query}')\n",
    "\n",
    "#2. Embed the query\n",
    "#note to embed the query with the same embedding model used earlier\n",
    "query_embed = embedding_model.encode(query, \n",
    "                                    convert_to_tensor=True)\n",
    "\n",
    "#3. Set similarity scores with the dot product (use cosine similarity if outputs of the model are not normalized)\n",
    "\n",
    "from time import perf_counter as timer\n",
    "start_time = timer()\n",
    "dot_score  = util.dot_score(a= query_embed, b = text_embedding.float())[0]\n",
    "#normalizing the dot product  \n",
    "normalized_query_embed = torch.sqrt(torch.sum(query_embed**2))\n",
    "normalized_text_embed = torch.sqrt(torch.sum(text_embedding**2))\n",
    "#finalized vector\n",
    "finalized_vector = dot_score / (normalized_query_embed*normalized_text_embed)\n",
    "end_time = timer()\n",
    "\n",
    "print(f'[INFO] Time taken to get scores on {len(text_embedding)} embeddings is : {end_time-start_time:.5f} seconds')\n",
    "\n",
    "#4.Get top-k  results\n",
    "top_results_dot_product = torch.topk(finalized_vector, k = 5)\n",
    "top_results_dot_product\n"
   ]
  },
  {
   "cell_type": "code",
   "execution_count": null,
   "id": "a60a86b5",
   "metadata": {},
   "outputs": [],
   "source": [
    "#checking these values from the df \n",
    "\n",
    "texts_chunks_and_embedding_df['joined_sentence_chunk'][984]"
   ]
  },
  {
   "cell_type": "markdown",
   "id": "15c7c24f",
   "metadata": {},
   "source": [
    "Searching over embedding is fast even exhuastive search is used \n",
    "\n",
    "FAISS (similarity search) model by Facebook helps in fast ANN (approximately nearest neighbour search like indexing.\n"
   ]
  },
  {
   "cell_type": "code",
   "execution_count": null,
   "id": "a6d43661",
   "metadata": {},
   "outputs": [],
   "source": [
    "#increasing the embedding \n",
    "larger_embedding  = torch.randn(1000*text_embedding.shape[0], 384).to(devices)\n",
    "print(f\"Larger embedding shape is :{larger_embedding.shape}\")\n",
    "\n",
    "from time import perf_counter as timer\n",
    "start_time = timer()\n",
    "dot_score  = util.dot_score(a= query_embed, b = larger_embedding.float())[0]\n",
    "end_time = timer()\n",
    "\n",
    "print(f'[INFO] Time taken to get scores on {len(larger_embedding)} embeddings is : {end_time-start_time:.5f} seconds')\n"
   ]
  },
  {
   "cell_type": "code",
   "execution_count": null,
   "id": "3be9e577",
   "metadata": {},
   "outputs": [],
   "source": [
    "#showing results in better way\n",
    "\n",
    "import textwrap\n",
    "\n",
    "def print_wrap(text, wrap_length = 80):\n",
    "    wrappedtext = textwrap.fill(text, wrap_length)\n",
    "    print(wrappedtext)"
   ]
  },
  {
   "cell_type": "code",
   "execution_count": null,
   "id": "f4510d87",
   "metadata": {},
   "outputs": [],
   "source": [
    "print(f\"Query: {query}\\n\")\n",
    "\n",
    "for scores, idx in zip(top_results_dot_product[0], top_results_dot_product[1]) :\n",
    "    print(f\"Scores: {scores:.4f}\")\n",
    "    print(\"Text: \")\n",
    "    print(pages_and_chunks[idx]['joined_sentence_chunk'])\n",
    "    print(f\"Page Number: {pages_and_chunks[idx]['page_number']}\")\n",
    "    print(\"\\n\")"
   ]
  },
  {
   "cell_type": "markdown",
   "id": "68b8be4b",
   "metadata": {},
   "source": [
    "#Re-ranking of the searches can be also be done(like if you search anything google show top 10 searches)\n",
    "\n",
    "Using open source model - \"https://huggingface.co/mixedbread-ai/mxbai-rerank-large-v1\""
   ]
  },
  {
   "cell_type": "code",
   "execution_count": null,
   "id": "35641b46",
   "metadata": {},
   "outputs": [],
   "source": [
    "#Lets show the page where from where the info is retrieved \n"
   ]
  },
  {
   "cell_type": "code",
   "execution_count": null,
   "id": "f49c31a9",
   "metadata": {},
   "outputs": [],
   "source": [
    "import fitz\n",
    "query = \"vitamins\"\n",
    "pdf_path = r'G:\\books\\Human-Nutrition-2020-Edition-1598491699.pdf'\n",
    "doc = fitz.open(pdf_path)\n",
    "page = doc.load_page(533+41)#TEXT STARTING FROM PAGE 41\n",
    "\n",
    "img = page.get_pixmap(dpi = 300)\n",
    "\n",
    "doc.close()\n",
    "\n",
    "#convert to pixmap to numpy array\n",
    "img_array = np.frombuffer(img.samples_mv, dtype = np.uint8).reshape((img.h, img.w, img.n))\n",
    "\n",
    "#display\n",
    "import matplotlib.pyplot as plt \n",
    "plt.figure(figsize = (13,10))\n",
    "plt.imshow(img_array)\n",
    "plt.title(f'Query: {query}  | Most relevant image: ')\n",
    "plt.axis(\"off\")\n",
    "plt.show()"
   ]
  },
  {
   "cell_type": "markdown",
   "id": "3e3b698c",
   "metadata": {},
   "source": [
    "Semenatic search \n",
    "\n",
    "\n",
    "-- dot product (torch.dot, np.dot, sentence_transformer.util.dot_score)\n",
    "\n",
    "\n",
    "-- cosine product (sentence_transformer.util.cos_sin, torch.nn.functional.cosine_similarity)\n",
    "\n",
    "dot product (cosine similarity is dot product + normalization), since these the results are already normalized. The results are faster but the model \"paraphrase-MiniLM-L6-v2\" is not normalized as the scores range is not between 0 to 1.\n",
    "\n",
    "\n",
    "#normalizing the dot product  \n",
    "\n",
    "\n",
    "normalized_query_embed = torch.sqrt(torch.sum(query_embed**2))\n",
    "\n",
    "\n",
    "normalized_text_embed = torch.sqrt(torch.sum(text_embedding**2))\n",
    "\n",
    "\n",
    "#finalized vector\n",
    "\n",
    "\n",
    "finalized_vector = dot_score / (normalized_query_embed*normalized_text_embed)\n",
    "\n"
   ]
  },
  {
   "cell_type": "code",
   "execution_count": null,
   "id": "7c617207",
   "metadata": {},
   "outputs": [],
   "source": [
    "#functionalizing the semantic search pipeline"
   ]
  },
  {
   "cell_type": "code",
   "execution_count": null,
   "id": "f6f81d71",
   "metadata": {},
   "outputs": [],
   "source": [
    "def reterieve_info(query: str,\n",
    "                  n_resources_to_return: int = 5,\n",
    "                  embeddings =  text_embedding,\n",
    "                  model: SentenceTransformer = embedding_model,\n",
    "                  print_time: bool = True):\n",
    "    \n",
    "    query_embedding = embedding_model.encode(query,\n",
    "                                            convert_to_tensor=True)\n",
    "    \n",
    "    start_time = timer()\n",
    "    dot_score  = util.dot_score(a= query_embedding, b = text_embedding.float())[0]\n",
    "    #normalizing the dot product\n",
    "    '''  \n",
    "    normalized_query_embed = torch.sqrt(torch.sum(query_embedding**2))\n",
    "    normalized_text_embed = torch.sqrt(torch.sum(text_embedding**2))\n",
    "    #finalized vector\n",
    "    finalized_vector = dot_score / (normalized_query_embed*normalized_text_embed)'''\n",
    "    end_time = timer()\n",
    "    \n",
    "    if print_time:\n",
    "        print(f'[INFO] Time taken by {len(text_embedding)} embeddings is {end_time-start_time:.5f} seconds')\n",
    "        \n",
    "    results = torch.topk(input = dot_score, k = n_resources_to_return)\n",
    "    scores, indices = torch.topk(input = dot_score, k = n_resources_to_return)\n",
    "    \n",
    "    #printing scores and indices\n",
    "    print(f\"The scores of the top {n_resources_to_return} searches are: {scores}.\")\n",
    "    print(f\"The pages of the top {n_resources_to_return} searches are: {indices}.\")\n",
    "    \n",
    "    for scores, idx in zip(results[0], results[1]) :\n",
    "        print(f\"Scores: {scores:.4f}\")\n",
    "        print(\"Text: \")\n",
    "        print(pages_and_chunks[idx]['joined_sentence_chunk'])\n",
    "        print(f\"Page Number: {pages_and_chunks[idx]['page_number']}\")\n",
    "        print(\"\\n\")\n",
    "    \n",
    "    \n",
    "    \n",
    "    "
   ]
  },
  {
   "cell_type": "code",
   "execution_count": null,
   "id": "d346efc5",
   "metadata": {},
   "outputs": [],
   "source": [
    "reterieve_info(query = \"healthy food\",print_time=True)"
   ]
  },
  {
   "cell_type": "code",
   "execution_count": 55,
   "id": "24ca9a2f",
   "metadata": {},
   "outputs": [],
   "source": [
    "#now making function for the page view\n",
    "def page_view( query, page_num):\n",
    "    \n",
    "    pdf_path = r'G:\\books\\Human-Nutrition-2020-Edition-1598491699.pdf'\n",
    "    doc = fitz.open(pdf_path)\n",
    "    real_pag_num = page_num - 41\n",
    "    page = doc.load_page(real_pag_num)#TEXT STARTING FROM PAGE 41\n",
    "\n",
    "    img = page.get_pixmap(dpi = 800)\n",
    "\n",
    "    doc.close()\n",
    "\n",
    "    #convert to pixmap to numpy array\n",
    "    img_array = np.frombuffer(img.samples_mv, dtype = np.uint8).reshape((img.h, img.w, img.n))\n",
    "\n",
    "    #display\n",
    "    import matplotlib.pyplot as plt \n",
    "    plt.figure(figsize = (13,10))\n",
    "    plt.imshow(img_array)\n",
    "    plt.title(f'Query: {query}  | Most relevant image: ')\n",
    "    plt.axis(\"off\")\n",
    "    plt.show()"
   ]
  },
  {
   "cell_type": "code",
   "execution_count": 56,
   "id": "b0ac5dfd",
   "metadata": {},
   "outputs": [
    {
     "data": {
      "image/png": "[encoded data removed]",
      "text/plain": [
       "<Figure size 1300x1000 with 1 Axes>"
      ]
     },
     "metadata": {},
     "output_type": "display_data"
    }
   ],
   "source": [
    "page_view(query, 822)"
   ]
  },
  {
   "cell_type": "code",
   "execution_count": null,
   "id": "cba8ed96",
   "metadata": {},
   "outputs": [],
   "source": []
  }
 ],
 "metadata": {
  "kernelspec": {
   "display_name": "Python 3 (ipykernel)",
   "language": "python",
   "name": "python3"
  },
  "language_info": {
   "codemirror_mode": {
    "name": "ipython",
    "version": 3
   },
   "file_extension": ".py",
   "mimetype": "text/x-python",
   "name": "python",
   "nbconvert_exporter": "python",
   "pygments_lexer": "ipython3",
   "version": "3.11.3"
  }
 },
 "nbformat": 4,
 "nbformat_minor": 5
}
